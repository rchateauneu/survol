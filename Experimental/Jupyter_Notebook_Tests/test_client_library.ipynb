{
 "cells": [
  {
   "cell_type": "markdown",
   "metadata": {
    "collapsed": true
   },
   "source": [
    "Test lib_client, local use of Survol API."
   ]
  },
  {
   "cell_type": "code",
   "execution_count": 182,
   "metadata": {
    "collapsed": false
   },
   "outputs": [
    {
     "name": "stderr",
     "output_type": "stream",
     "text": [
      "C:\\Users\\rchateau\\Developpement\\ReverseEngineeringApps\\PythonStyle\\survol\\__init__.pyc\n",
      "UriRootHelper urh=http://LOCAL_MODE:80/survol\n",
      "TopScriptsFunc currDir=C:\\Users\\rchateau\\Developpement\\ReverseEngineeringApps\\PythonStyle\\Experimental\\Jupyter_Notebook_Tests idx=-1\n",
      "Done C:\\Users\\rchateau\\Developpement\\ReverseEngineeringApps\\PythonStyle\\survol\\__init__.pyc\n"
     ]
    }
   ],
   "source": [
    "# This loads the module from the source, so no need to install it,\n",
    "# and no need of virtualenv.\n",
    "import sys\n",
    "filRoot = \"C:\\\\Users\\\\rchateau\\\\Developpement\\\\ReverseEngineeringApps\\\\PythonStyle\\\\survol\"\n",
    "if sys.path[0] != filRoot:\n",
    "    sys.path.insert(0,filRoot)\n",
    "    print(sys.path)\n",
    "\n",
    "# This deletes the module so we can reload them each time.\n",
    "# Problem: survol modules are not detectable.\n",
    "# We could as well delete all modules except sys.\n",
    "allModules = [ modu for modu in sys.modules if modu.startswith(\"survol\") or modu.startswith(\"lib_\")]\n",
    "\n",
    "for modu in allModules:\n",
    "    # sys.stderr.write(\"Deleting %s\\n\"%modu)\n",
    "    del sys.modules[modu]\n",
    "\n",
    "sys.stderr.write(\"%s\\n\"%survol.__file__)\n",
    "import lib_common\n",
    "import lib_util\n",
    "import lib_client\n",
    "sys.stderr.write(\"Done %s\\n\"%survol.__file__)\n",
    "\n",
    "from __future__ import print_function\n",
    "\n"
   ]
  },
  {
   "cell_type": "code",
   "execution_count": 183,
   "metadata": {
    "collapsed": false
   },
   "outputs": [
    {
     "name": "stderr",
     "output_type": "stream",
     "text": [
      "get_content_moded the_url=http://rchateau-hp:8000/survol/sources_types/CIM_DataFile/file_stat.py?xid=CIM_DataFile.Name%3DC%3A%5CWindows%5Cexplorer.exe&mode=json\n"
     ]
    },
    {
     "name": "stdout",
     "output_type": "stream",
     "text": [
      "urlFileStatRemote= http://rchateau-hp:8000/survol/sources_types/CIM_DataFile/file_stat.py?xid=CIM_DataFile.Name%3DC%3A%5CWindows%5Cexplorer.exe\n",
      "qryFileStatRemote= xid=CIM_DataFile.Name%3DC%3A%5CWindows%5Cexplorer.exe\n",
      "jsonFileStatRemote= {u'nodes': [{u'entity_class': \n"
     ]
    },
    {
     "name": "stderr",
     "output_type": "stream",
     "text": [
      "get_content_moded the_url=http://rchateau-hp:8000/survol/sources_types/CIM_DataFile/file_stat.py?xid=CIM_DataFile.Name%3DC%3A%5CWindows%5Cexplorer.exe&mode=rdf\n"
     ]
    },
    {
     "name": "stdout",
     "output_type": "stream",
     "text": [
      "rdfFileStatRemote= <?xml version=\"1.0\" encoding=\"\n"
     ]
    },
    {
     "name": "stderr",
     "output_type": "stream",
     "text": [
      "get_content_moded the_url=http://rchateau-hp:8000/survol/sources_types/CIM_DataFile/file_stat.py?xid=CIM_DataFile.Name%3DC%3A%5CWindows%5Cexplorer.exe&mode=rdf\n"
     ]
    }
   ],
   "source": [
    "# Test creation of various data sources.\n",
    "\n",
    "# http://rchateau-hp:8000/survol/sources_types/CIM_DataFile/file_stat.py?xid=CIM_DataFile.Name%3DC%3A%2FWindows%2Fexplorer.exe\n",
    "mySourceFileStatRemote = lib_client.SourceUrl(\n",
    "    \"http://rchateau-hp:8000/survol/sources_types/CIM_DataFile/file_stat.py\",\n",
    "    \"CIM_DataFile\",\n",
    "    Name=\"C:\\\\Windows\\\\explorer.exe\")\n",
    "print(\"urlFileStatRemote=\",mySourceFileStatRemote.Url())\n",
    "print(\"qryFileStatRemote=\",mySourceFileStatRemote.UrlQuery())\n",
    "print(\"jsonFileStatRemote=\",str(mySourceFileStatRemote.content_json())[:30])\n",
    "print(\"rdfFileStatRemote=\",str(mySourceFileStatRemote.content_rdf())[:30])\n",
    "tripleFileStatRemote = mySourceFileStatRemote.get_triplestore()\n"
   ]
  },
  {
   "cell_type": "code",
   "execution_count": 184,
   "metadata": {
    "collapsed": false
   },
   "outputs": [
    {
     "name": "stdout",
     "output_type": "stream",
     "text": [
      "qryFileStatLocal=xid=CIM_DataFile.Name%3DC%3A%5CWindows%5Cexplorer.exe\n",
      "jsonFileStatLocal={u'nodes': [{u'entity_class': \n",
      "rdfFileStatLocal=<?xml version=\"1.0\" encoding=\"\n"
     ]
    },
    {
     "name": "stderr",
     "output_type": "stream",
     "text": [
      "__execute_script_with_mode before render=OutputMachineCgi\n",
      "OutputMachineString init type=StringIO\n",
      "CgiEnv parameters={}\n",
      "GetCallingModuleDoc Main module:<module '__main__' (built-in)>\n",
      "GetCallingModuleDoc Main module:__main__\n",
      "CgiEnv m_page_title=Automatically created module for IPython interactive environment m_calling_url=/survol/sources_types/CIM_DataFile/file_stat.py?xid=CIM_DataFile.Name%3DC%3A%5CWindows%5Cexplorer.exe&mode=json\n",
      "CgiEnv m_entity_type=CIM_DataFile m_entity_id=Name=C:\\Windows\\explorer.exe m_entity_host=\n",
      "GetId m_entity_type=CIM_DataFile m_entity_id=Name=C:\\Windows\\explorer.exe\n",
      "GetId splitKV={'Name': 'C:\\\\Windows\\\\explorer.exe'}\n",
      "filNam=C:\\Windows\\explorer.exe\n",
      "File magic unavailable:C:\\Windows\\explorer.exe\n",
      "Domain=NT SERVICE Name=TrustedInstaller Type=Well-known group\n",
      "dirPath=C:\\Windows\n",
      "dirPath=C:\\\n",
      "OutCgiRdf globalMergeMode=0 m_calling_url=/survol/sources_types/CIM_DataFile/file_stat.py?xid=CIM_DataFile.Name%3DC%3A%5CWindows%5Cexplorer.exe&mode=json m_page_title=Automatically created module for IPython interactive environment explorer.exe\n",
      "\n",
      "Standard data file.\n",
      "\n",
      "OutputMachineString HeaderWriter:application/json\n",
      "OutputMachineString OutStream type=StringIO\n",
      "__execute_script_with_mode before restore=OutputMachineString\n",
      "__execute_script_with_mode strResult={\n",
      "  \"nodes\": [\n",
      "    {\n",
      "      \"su\n",
      "__execute_script_with_mode before render=OutputMachineCgi\n",
      "OutputMachineString init type=StringIO\n",
      "CgiEnv parameters={}\n",
      "GetCallingModuleDoc Main module:<module '__main__' (built-in)>\n",
      "GetCallingModuleDoc Main module:__main__\n",
      "CgiEnv m_page_title=Automatically created module for IPython interactive environment m_calling_url=/survol/sources_types/CIM_DataFile/file_stat.py?xid=CIM_DataFile.Name%3DC%3A%5CWindows%5Cexplorer.exe&mode=rdf\n",
      "CgiEnv m_entity_type=CIM_DataFile m_entity_id=Name=C:\\Windows\\explorer.exe m_entity_host=\n",
      "GetId m_entity_type=CIM_DataFile m_entity_id=Name=C:\\Windows\\explorer.exe\n",
      "GetId splitKV={'Name': 'C:\\\\Windows\\\\explorer.exe'}\n",
      "filNam=C:\\Windows\\explorer.exe\n",
      "File magic unavailable:C:\\Windows\\explorer.exe\n",
      "Domain=NT SERVICE Name=TrustedInstaller Type=Well-known group\n",
      "dirPath=C:\\Windows\n",
      "dirPath=C:\\\n",
      "OutCgiRdf globalMergeMode=0 m_calling_url=/survol/sources_types/CIM_DataFile/file_stat.py?xid=CIM_DataFile.Name%3DC%3A%5CWindows%5Cexplorer.exe&mode=rdf m_page_title=Automatically created module for IPython interactive environment explorer.exe\n",
      "\n",
      "Standard data file.\n",
      "\n",
      "OutputMachineString HeaderWriter:text/rdf\n",
      "OutputMachineString OutStream type=StringIO\n",
      "__execute_script_with_mode before restore=OutputMachineString\n",
      "__execute_script_with_mode strResult=<?xml version=\"1.0\" encoding=\"\n",
      "__execute_script_with_mode before render=OutputMachineCgi\n",
      "OutputMachineString init type=StringIO\n",
      "CgiEnv parameters={}\n",
      "GetCallingModuleDoc Main module:<module '__main__' (built-in)>\n",
      "GetCallingModuleDoc Main module:__main__\n",
      "CgiEnv m_page_title=Automatically created module for IPython interactive environment m_calling_url=/survol/sources_types/CIM_DataFile/file_stat.py?xid=CIM_DataFile.Name%3DC%3A%5CWindows%5Cexplorer.exe&mode=rdf\n",
      "CgiEnv m_entity_type=CIM_DataFile m_entity_id=Name=C:\\Windows\\explorer.exe m_entity_host=\n",
      "GetId m_entity_type=CIM_DataFile m_entity_id=Name=C:\\Windows\\explorer.exe\n",
      "GetId splitKV={'Name': 'C:\\\\Windows\\\\explorer.exe'}\n",
      "filNam=C:\\Windows\\explorer.exe\n",
      "File magic unavailable:C:\\Windows\\explorer.exe\n",
      "Domain=NT SERVICE Name=TrustedInstaller Type=Well-known group\n",
      "dirPath=C:\\Windows\n",
      "dirPath=C:\\\n",
      "OutCgiRdf globalMergeMode=0 m_calling_url=/survol/sources_types/CIM_DataFile/file_stat.py?xid=CIM_DataFile.Name%3DC%3A%5CWindows%5Cexplorer.exe&mode=rdf m_page_title=Automatically created module for IPython interactive environment explorer.exe\n",
      "\n",
      "Standard data file.\n",
      "\n",
      "OutputMachineString HeaderWriter:text/rdf\n",
      "OutputMachineString OutStream type=StringIO\n",
      "__execute_script_with_mode before restore=OutputMachineString\n",
      "__execute_script_with_mode strResult=<?xml version=\"1.0\" encoding=\"\n"
     ]
    }
   ],
   "source": [
    "# This should return the same content, but much faster.\n",
    "mySourceFileStatLocal = lib_client.SourceScript(\n",
    "    \"survol/sources_types/CIM_DataFile/file_stat.py\",\n",
    "    \"CIM_DataFile\",\n",
    "    Name=\"C:\\\\Windows\\\\explorer.exe\")\n",
    "print(\"qryFileStatLocal=%s\"%mySourceFileStatLocal.UrlQuery())\n",
    "print(\"jsonFileStatLocal=%s\"%str(mySourceFileStatLocal.content_json())[:30])\n",
    "print(\"rdfFileStatLocal=%s\"%str(mySourceFileStatLocal.content_rdf())[:30])\n",
    "tripleFileStatLocal = mySourceFileStatLocal.get_triplestore()\n"
   ]
  },
  {
   "cell_type": "code",
   "execution_count": 185,
   "metadata": {
    "collapsed": false
   },
   "outputs": [
    {
     "name": "stdout",
     "output_type": "stream",
     "text": [
      "Len tripleFileStatLocal= 0\n",
      "Len tripleFileStatRemote= 0\n"
     ]
    }
   ],
   "source": [
    "# Comparison\n",
    "print(\"Len tripleFileStatLocal=\",len(tripleFileStatLocal.GetInstances()))\n",
    "print(\"Len tripleFileStatRemote=\",len(tripleFileStatRemote.GetInstances()))\n"
   ]
  },
  {
   "cell_type": "code",
   "execution_count": 186,
   "metadata": {
    "collapsed": false
   },
   "outputs": [
    {
     "name": "stderr",
     "output_type": "stream",
     "text": [
      "UriRootHelper urh=http://LOCAL_MODE:80/survol\n",
      "TopScriptsFunc currDir=C:\\Users\\rchateau\\Developpement\\ReverseEngineeringApps\\PythonStyle\\Experimental\\Jupyter_Notebook_Tests idx=-1\n",
      "__execute_script_with_mode before render=OutputMachineCgi\n",
      "OutputMachineString init type=StringIO\n",
      "CgiEnv parameters={'Show all scripts': False}\n",
      "GetCallingModuleDoc Main module:<module '__main__' (built-in)>\n",
      "GetCallingModuleDoc Main module:__main__\n",
      "CgiEnv m_page_title=Automatically created module for IPython interactive environment m_calling_url=/survol/entity.py?xid=CIM_LogicalDisk.DeviceID%3DD%3A&mode=json\n",
      "CgiEnv m_entity_type=CIM_LogicalDisk m_entity_id=DeviceID=D: m_entity_host=\n",
      "GetParameters paramkey='Show all scripts' m_arguments=FieldStorage(None, None, [MiniFieldStorage('xid', 'CIM_LogicalDisk.DeviceID=D:'), MiniFieldStorage('mode', 'json')])\n",
      "GetParameters paramkey='Show all scripts' not as CGI\n",
      "GetParameters paramkey='Show all scripts' set to paramVal='False'\n",
      "EntityIdToArray entity_type=CIM_LogicalDisk entity_id=DeviceID=D:\n",
      "DecodeCgiArg aKey=DeviceID type=<type 'str'> dictIds={'DeviceID': 'D:'}\n",
      "No AddInfo for CIM_LogicalDisk DeviceID=D:: 'module' object has no attribute 'AddInfo'\n",
      "entity.py AddDefaultNodes entity_host=\n"
     ]
    },
    {
     "name": "stdout",
     "output_type": "stream",
     "text": [
      "Content-Type: application/json; charset=utf-8\n",
      "Access-Control-Allow-Origin: *\n",
      "Access-Control-Allow-Methods: POST,GET,OPTIONS\n",
      "Access-Control-Allow-Headers: Origin, X-Requested-With, Content-Type, Accept\n",
      "\n",
      "{\n",
      "  \"nodes\": [\n",
      "    {\n",
      "      \"survol_fill\": \"#CCFFCC\", \n",
      "      \"survol_url\": \"http://LOCAL_MODE:80/survol/entity.py?xid=CIM_ComputerSystem.Name=local_mode\", \n",
      "      \"entity_class\": \"CIM_ComputerSystem\", \n",
      "      \"name\": \"local_mode\", \n",
      "      \"survol_info_list\": [\n",
      "        \"CIM_ComputerSystem\", \n",
      "        \"Current host:local_mode\"\n",
      "      ], \n",
      "      \"survol_universal_alias\": \"ThisComputer:local_mode\", \n",
      "      \"id\": \"http://LOCAL_MODE:80/survol/entity.py?xid=CIM_ComputerSystem.Name=local_mode\", \n",
      "      \"survol_info_dict\": {}\n",
      "    }, \n",
      "    {\n",
      "      \"survol_fill\": \"#FFCCFF\", \n",
      "      \"survol_url\": \"http://LOCAL_MODE:80/survol/entity.py?xid=CIM_LogicalDisk.DeviceID%3DD%3A\", \n",
      "      \"entity_class\": \"CIM_LogicalDisk\", \n",
      "      \"name\": \"D:\", \n",
      "      \"survol_info_list\": [\n",
      "        \"CIM_LogicalDisk\"\n",
      "      ], \n",
      "      \"survol_universal_alias\": \"local_mode@CIM_LogicalDisk:D:\", \n",
      "      \"id\": \"http://LOCAL_MODE:80/survol/entity.py?xid=CIM_LogicalDisk.DeviceID%3DD%3A\", \n",
      "      \"survol_info_dict\": {}\n",
      "    }, \n",
      "    {\n",
      "      \"survol_fill\": \"#EEAAAA\", \n",
      "      \"survol_url\": \"http://LOCAL_MODE:80/survol/entity.py?xid=Win32_UserAccount.Domain=local_mode,Name=rchateau\", \n",
      "      \"entity_class\": \"Win32_UserAccount\", \n",
      "      \"name\": \"local_mode\\\\\\\\rchateau\", \n",
      "      \"survol_info_list\": [\n",
      "        \"Win32_UserAccount\", \n",
      "        \"Current user:rchateau\"\n",
      "      ], \n",
      "      \"survol_universal_alias\": \"local_mode@Win32_UserAccount:rchateau,local_mode\", \n",
      "      \"id\": \"http://LOCAL_MODE:80/survol/entity.py?xid=Win32_UserAccount.Domain=local_mode,Name=rchateau\", \n",
      "      \"survol_info_dict\": {}\n",
      "    }\n",
      "  ], \n",
      "  \"page_title\": \"Automatically created module for IPython interactive environment D:\\n\\nUniquely associated to a CIM_DiskPartition.\\n\", \n",
      "  \"links\": [\n",
      "    {\n",
      "      \"survol_link_prop\": \"Data2\", \n",
      "      \"source\": \"http://LOCAL_MODE:80/survol/entity.py?xid=CIM_LogicalDisk.DeviceID%3DD%3A\", \n",
      "      \"target\": \"http://LOCAL_MODE:80/survol/entity.py?xid=Win32_UserAccount.Domain=local_mode,Name=rchateau\"\n",
      "    }, \n",
      "    {\n",
      "      \"survol_link_prop\": \"Data2\", \n",
      "      \"source\": \"http://LOCAL_MODE:80/survol/entity.py?xid=CIM_LogicalDisk.DeviceID%3DD%3A\", \n",
      "      \"target\": \"http://LOCAL_MODE:80/survol/entity.py?xid=CIM_ComputerSystem.Name=local_mode\"\n",
      "    }\n",
      "  ]\n",
      "}"
     ]
    },
    {
     "name": "stderr",
     "output_type": "stream",
     "text": [
      "OutCgiRdf globalMergeMode=0 m_calling_url=/survol/entity.py?xid=CIM_LogicalDisk.DeviceID%3DD%3A&mode=json m_page_title=Automatically created module for IPython interactive environment D:\n",
      "\n",
      "Uniquely associated to a CIM_DiskPartition.\n",
      "\n",
      "OutputMachineCgi.WriteHeadContentType:application/json\n",
      "__execute_script_with_mode before restore=OutputMachineString\n",
      "__execute_script_with_mode strResult=\n"
     ]
    },
    {
     "ename": "ValueError",
     "evalue": "No JSON object could be decoded",
     "output_type": "error",
     "traceback": [
      "\u001b[1;31m---------------------------------------------------------------------------\u001b[0m",
      "\u001b[1;31mValueError\u001b[0m                                Traceback (most recent call last)",
      "\u001b[1;32m<ipython-input-186-30e8b71bc2d7>\u001b[0m in \u001b[0;36m<module>\u001b[1;34m()\u001b[0m\n\u001b[0;32m      4\u001b[0m     \u001b[1;34m\"CIM_LogicalDisk\"\u001b[0m\u001b[1;33m,\u001b[0m\u001b[1;33m\u001b[0m\u001b[0m\n\u001b[0;32m      5\u001b[0m     DeviceID=\"D:\")\n\u001b[1;32m----> 6\u001b[1;33m \u001b[1;32mprint\u001b[0m\u001b[1;33m(\u001b[0m \u001b[0mstr\u001b[0m\u001b[1;33m(\u001b[0m\u001b[0mmySource1\u001b[0m\u001b[1;33m.\u001b[0m\u001b[0mcontent_json\u001b[0m\u001b[1;33m(\u001b[0m\u001b[1;33m)\u001b[0m\u001b[1;33m)\u001b[0m\u001b[1;33m[\u001b[0m\u001b[1;33m:\u001b[0m\u001b[1;36m30\u001b[0m\u001b[1;33m]\u001b[0m\u001b[1;33m)\u001b[0m\u001b[1;33m\u001b[0m\u001b[0m\n\u001b[0m\u001b[0;32m      7\u001b[0m \u001b[1;33m\u001b[0m\u001b[0m\n\u001b[0;32m      8\u001b[0m \u001b[0mmySource2\u001b[0m \u001b[1;33m=\u001b[0m \u001b[0mlib_client\u001b[0m\u001b[1;33m.\u001b[0m\u001b[0mSourceUrl\u001b[0m\u001b[1;33m(\u001b[0m\u001b[1;34m\"http://rchateau-hp:8000/survol/sources_types/java/java_processes.py\"\u001b[0m\u001b[1;33m)\u001b[0m\u001b[1;33m\u001b[0m\u001b[0m\n",
      "\u001b[1;32mC:\\Users\\rchateau\\Developpement\\ReverseEngineeringApps\\PythonStyle\\survol\\lib_client.py\u001b[0m in \u001b[0;36mcontent_json\u001b[1;34m(self)\u001b[0m\n\u001b[0;32m     52\u001b[0m         \u001b[1;32mdef\u001b[0m \u001b[0mcontent_json\u001b[0m\u001b[1;33m(\u001b[0m\u001b[0mself\u001b[0m\u001b[1;33m)\u001b[0m\u001b[1;33m:\u001b[0m\u001b[1;33m\u001b[0m\u001b[0m\n\u001b[0;32m     53\u001b[0m                 \u001b[0mstrJson\u001b[0m \u001b[1;33m=\u001b[0m \u001b[0mself\u001b[0m\u001b[1;33m.\u001b[0m\u001b[0mget_content_moded\u001b[0m\u001b[1;33m(\u001b[0m\u001b[1;34m\"json\"\u001b[0m\u001b[1;33m)\u001b[0m\u001b[1;33m\u001b[0m\u001b[0m\n\u001b[1;32m---> 54\u001b[1;33m                 \u001b[0murl_content\u001b[0m \u001b[1;33m=\u001b[0m \u001b[0mjson\u001b[0m\u001b[1;33m.\u001b[0m\u001b[0mloads\u001b[0m\u001b[1;33m(\u001b[0m\u001b[0mstrJson\u001b[0m\u001b[1;33m)\u001b[0m\u001b[1;33m\u001b[0m\u001b[0m\n\u001b[0m\u001b[0;32m     55\u001b[0m                 \u001b[1;32mreturn\u001b[0m \u001b[0murl_content\u001b[0m\u001b[1;33m\u001b[0m\u001b[0m\n\u001b[0;32m     56\u001b[0m \u001b[1;33m\u001b[0m\u001b[0m\n",
      "\u001b[1;32mc:\\python27\\lib\\json\\__init__.pyc\u001b[0m in \u001b[0;36mloads\u001b[1;34m(s, encoding, cls, object_hook, parse_float, parse_int, parse_constant, object_pairs_hook, **kw)\u001b[0m\n\u001b[0;32m    336\u001b[0m             \u001b[0mparse_int\u001b[0m \u001b[1;32mis\u001b[0m \u001b[0mNone\u001b[0m \u001b[1;32mand\u001b[0m \u001b[0mparse_float\u001b[0m \u001b[1;32mis\u001b[0m \u001b[0mNone\u001b[0m \u001b[1;32mand\u001b[0m\u001b[1;33m\u001b[0m\u001b[0m\n\u001b[0;32m    337\u001b[0m             parse_constant is None and object_pairs_hook is None and not kw):\n\u001b[1;32m--> 338\u001b[1;33m         \u001b[1;32mreturn\u001b[0m \u001b[0m_default_decoder\u001b[0m\u001b[1;33m.\u001b[0m\u001b[0mdecode\u001b[0m\u001b[1;33m(\u001b[0m\u001b[0ms\u001b[0m\u001b[1;33m)\u001b[0m\u001b[1;33m\u001b[0m\u001b[0m\n\u001b[0m\u001b[0;32m    339\u001b[0m     \u001b[1;32mif\u001b[0m \u001b[0mcls\u001b[0m \u001b[1;32mis\u001b[0m \u001b[0mNone\u001b[0m\u001b[1;33m:\u001b[0m\u001b[1;33m\u001b[0m\u001b[0m\n\u001b[0;32m    340\u001b[0m         \u001b[0mcls\u001b[0m \u001b[1;33m=\u001b[0m \u001b[0mJSONDecoder\u001b[0m\u001b[1;33m\u001b[0m\u001b[0m\n",
      "\u001b[1;32mc:\\python27\\lib\\json\\decoder.pyc\u001b[0m in \u001b[0;36mdecode\u001b[1;34m(self, s, _w)\u001b[0m\n\u001b[0;32m    364\u001b[0m \u001b[1;33m\u001b[0m\u001b[0m\n\u001b[0;32m    365\u001b[0m         \"\"\"\n\u001b[1;32m--> 366\u001b[1;33m         \u001b[0mobj\u001b[0m\u001b[1;33m,\u001b[0m \u001b[0mend\u001b[0m \u001b[1;33m=\u001b[0m \u001b[0mself\u001b[0m\u001b[1;33m.\u001b[0m\u001b[0mraw_decode\u001b[0m\u001b[1;33m(\u001b[0m\u001b[0ms\u001b[0m\u001b[1;33m,\u001b[0m \u001b[0midx\u001b[0m\u001b[1;33m=\u001b[0m\u001b[0m_w\u001b[0m\u001b[1;33m(\u001b[0m\u001b[0ms\u001b[0m\u001b[1;33m,\u001b[0m \u001b[1;36m0\u001b[0m\u001b[1;33m)\u001b[0m\u001b[1;33m.\u001b[0m\u001b[0mend\u001b[0m\u001b[1;33m(\u001b[0m\u001b[1;33m)\u001b[0m\u001b[1;33m)\u001b[0m\u001b[1;33m\u001b[0m\u001b[0m\n\u001b[0m\u001b[0;32m    367\u001b[0m         \u001b[0mend\u001b[0m \u001b[1;33m=\u001b[0m \u001b[0m_w\u001b[0m\u001b[1;33m(\u001b[0m\u001b[0ms\u001b[0m\u001b[1;33m,\u001b[0m \u001b[0mend\u001b[0m\u001b[1;33m)\u001b[0m\u001b[1;33m.\u001b[0m\u001b[0mend\u001b[0m\u001b[1;33m(\u001b[0m\u001b[1;33m)\u001b[0m\u001b[1;33m\u001b[0m\u001b[0m\n\u001b[0;32m    368\u001b[0m         \u001b[1;32mif\u001b[0m \u001b[0mend\u001b[0m \u001b[1;33m!=\u001b[0m \u001b[0mlen\u001b[0m\u001b[1;33m(\u001b[0m\u001b[0ms\u001b[0m\u001b[1;33m)\u001b[0m\u001b[1;33m:\u001b[0m\u001b[1;33m\u001b[0m\u001b[0m\n",
      "\u001b[1;32mc:\\python27\\lib\\json\\decoder.pyc\u001b[0m in \u001b[0;36mraw_decode\u001b[1;34m(self, s, idx)\u001b[0m\n\u001b[0;32m    382\u001b[0m             \u001b[0mobj\u001b[0m\u001b[1;33m,\u001b[0m \u001b[0mend\u001b[0m \u001b[1;33m=\u001b[0m \u001b[0mself\u001b[0m\u001b[1;33m.\u001b[0m\u001b[0mscan_once\u001b[0m\u001b[1;33m(\u001b[0m\u001b[0ms\u001b[0m\u001b[1;33m,\u001b[0m \u001b[0midx\u001b[0m\u001b[1;33m)\u001b[0m\u001b[1;33m\u001b[0m\u001b[0m\n\u001b[0;32m    383\u001b[0m         \u001b[1;32mexcept\u001b[0m \u001b[0mStopIteration\u001b[0m\u001b[1;33m:\u001b[0m\u001b[1;33m\u001b[0m\u001b[0m\n\u001b[1;32m--> 384\u001b[1;33m             \u001b[1;32mraise\u001b[0m \u001b[0mValueError\u001b[0m\u001b[1;33m(\u001b[0m\u001b[1;34m\"No JSON object could be decoded\"\u001b[0m\u001b[1;33m)\u001b[0m\u001b[1;33m\u001b[0m\u001b[0m\n\u001b[0m\u001b[0;32m    385\u001b[0m         \u001b[1;32mreturn\u001b[0m \u001b[0mobj\u001b[0m\u001b[1;33m,\u001b[0m \u001b[0mend\u001b[0m\u001b[1;33m\u001b[0m\u001b[0m\n",
      "\u001b[1;31mValueError\u001b[0m: No JSON object could be decoded"
     ]
    }
   ],
   "source": [
    "# Test merge of heterogeneous data sources.\n",
    "mySource1 = lib_client.SourceScript(\n",
    "    \"survol/entity.py\",\n",
    "    \"CIM_LogicalDisk\",\n",
    "    DeviceID=\"D:\")\n",
    "print( str(mySource1.content_json())[:30])\n",
    "\n",
    "mySource2 = lib_client.SourceUrl(\"http://rchateau-hp:8000/survol/sources_types/java/java_processes.py\")\n",
    "\n",
    "mySrcMergePlus = mySource1 + mySource2\n",
    "print(\"Merge plus:\",str(mySrcMergePlus.content_rdf())[:30])\n",
    "tripleMinus = mySrcMergePlus.get_triplestore()\n",
    "\n",
    "mySrcMergeMinus = mySource1 - mySource2\n",
    "print(\"Merge Minus:\",str(mySrcMergeMinus.content_rdf())[:30])\n",
    "tripleMinus = mySrcMergeMinus.get_triplestore()\n"
   ]
  },
  {
   "cell_type": "code",
   "execution_count": null,
   "metadata": {
    "collapsed": true
   },
   "outputs": [],
   "source": [
    "# Test merging twice the same source.\n",
    "\n",
    "mySourceDupl = lib_client.SourceScript(\n",
    "    \"survol/sources_types/Win32_UserAccount/Win32_NetUserGetGroups.py\",\n",
    "    \"Win32_UserAccount\",\n",
    "    Domain=\"rchateau\")\n",
    "tripleDupl = mySourceDupl.get_triplestore()\n",
    "print(\"Len tripleDupl=\",len(tripleDupl.GetInstances()))\n",
    "\n",
    "mySrcMergePlus = mySourceDupl + mySourceDupl\n",
    "triplePlus = mySrcMergePlus.get_triplestore()\n",
    "print(\"Len triplePlus=\",len(triplePlus.GetInstances()))\n",
    "\n",
    "mySrcMergeMinus = mySourceDupl + mySourceDupl\n",
    "tripleMinus = mySrcMergeMinus.get_triplestore()\n",
    "print(\"Len tripleMinus=\",len(tripleMinus.GetInstances()))\n",
    "\n"
   ]
  },
  {
   "cell_type": "code",
   "execution_count": null,
   "metadata": {
    "collapsed": false
   },
   "outputs": [],
   "source": [
    "# Merge completely different sources.\n",
    "\n",
    "mySourceDupl = lib_client.SourceScript(\n",
    "    \"survol/sources_types/Win32_UserAccount/Win32_NetUserGetGroups.py\",\n",
    "    \"Win32_UserAccount\",\n",
    "    Domain=\"rchateau\")\n",
    "tripleDupl = mySourceDupl.get_triplestore()\n",
    "print(\"Len tripleDupl=\",len(tripleDupl.GetInstances()))\n",
    "\n",
    "mySrcMergePlus = mySourceDupl + mySourceDupl\n",
    "triplePlus = mySrcMergePlus.get_triplestore()\n",
    "print(\"Len triplePlus=\",len(triplePlus.GetInstances()))\n",
    "\n",
    "mySrcMergeMinus = mySourceDupl + mySourceDupl\n",
    "tripleMinus = mySrcMergeMinus.get_triplestore()\n",
    "print(\"Len tripleMinus=\",len(tripleMinus.GetInstances()))"
   ]
  },
  {
   "cell_type": "code",
   "execution_count": null,
   "metadata": {
    "collapsed": true
   },
   "outputs": [],
   "source": []
  }
 ],
 "metadata": {
  "kernelspec": {
   "display_name": "Python 2",
   "language": "python",
   "name": "python2"
  },
  "language_info": {
   "codemirror_mode": {
    "name": "ipython",
    "version": 2
   },
   "file_extension": ".py",
   "mimetype": "text/x-python",
   "name": "python",
   "nbconvert_exporter": "python",
   "pygments_lexer": "ipython2",
   "version": "2.7.10"
  }
 },
 "nbformat": 4,
 "nbformat_minor": 0
}
