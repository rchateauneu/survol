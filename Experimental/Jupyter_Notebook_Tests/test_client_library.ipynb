{
 "cells": [
  {
   "cell_type": "markdown",
   "metadata": {
    "collapsed": true
   },
   "source": [
    "Test lib_client, local use of Survol API."
   ]
  },
  {
   "cell_type": "code",
   "execution_count": 30,
   "metadata": {
    "collapsed": false
   },
   "outputs": [
    {
     "name": "stdout",
     "output_type": "stream",
     "text": [
      "C:\\Users\\rchateau\\Developpement\\ReverseEngineeringApps\\PythonStyle\\survol\\__init__.pyc\n"
     ]
    },
    {
     "name": "stderr",
     "output_type": "stream",
     "text": [
      "No SCRIPT_NAME\n",
      "UriRootHelper urh=http://LOCAL_MODE:80/NotRunningAsCgi\n",
      "TopScriptsFunc currDir=C:\\Users\\rchateau\\Developpement\\ReverseEngineeringApps\\PythonStyle\\Experimental\\Jupyter_Notebook_Tests idx=-1\n"
     ]
    }
   ],
   "source": [
    "# This loads the module from the source, so no need to install it,\n",
    "# and no need of virtualenv.\n",
    "import sys\n",
    "filRoot = \"C:\\\\Users\\\\rchateau\\\\Developpement\\\\ReverseEngineeringApps\\\\PythonStyle\"\n",
    "if sys.path[0] != filRoot:\n",
    "    sys.path.insert(0,filRoot)\n",
    "    print(sys.path)\n",
    "\n",
    "    \n",
    "def DelModu(modu):\n",
    "    if modu in sys.modules:\n",
    "        del sys.modules[modu]\n",
    "        \n",
    "# This deletes the module so we can reload them each time.\n",
    "# Not very reliable but OK for testing.\n",
    "for modu in ['survol','survol.lib_common','survol.lib_util','survol.lib_client']:\n",
    "    DelModu(modu)\n",
    "\n",
    "import survol\n",
    "print(survol.__file__)\n",
    "from survol import lib_common\n",
    "from survol import lib_util\n",
    "from survol import lib_client\n"
   ]
  },
  {
   "cell_type": "code",
   "execution_count": 33,
   "metadata": {
    "collapsed": false
   },
   "outputs": [
    {
     "name": "stdout",
     "output_type": "stream",
     "text": [
      "?xid=.\n",
      "?xid=CIM_Process.Handle=123\n",
      "?xid=.\n",
      "http://vps516494.ovh.net/Survol/survol/sources_types/enumerate_CIM_Process.py?xid=.\n",
      "http://rchateau-hp:8000/survol/sources_types/java/java_processes.py?xid=.\n",
      "SourceCgi.IsCgiComplete\n"
     ]
    }
   ],
   "source": [
    "mySource = survol.lib_client.SourceScript(\"toto.py\")\n",
    "print(mySource.Query())\n",
    "mySource = survol.lib_client.SourceScript(\"toto.py\",\"CIM_Process\",Handle=123)\n",
    "print(mySource.Query())\n",
    "\n",
    "mySource1 = survol.lib_client.SourceUrl(\"http://vps516494.ovh.net/Survol/survol/sources_types/enumerate_CIM_Process.py\")\n",
    "print(mySource1.Query())\n",
    "print(mySource1.Url())\n",
    "\n",
    "mySource2 = survol.lib_client.SourceUrl(\"http://rchateau-hp:8000/survol/sources_types/java/java_processes.py\")\n",
    "print(mySource2.Url())\n",
    "\n",
    "mySrcMerge = mySource1 + mySource2\n"
   ]
  },
  {
   "cell_type": "code",
   "execution_count": null,
   "metadata": {
    "collapsed": true
   },
   "outputs": [],
   "source": []
  }
 ],
 "metadata": {
  "kernelspec": {
   "display_name": "Python 2",
   "language": "python",
   "name": "python2"
  },
  "language_info": {
   "codemirror_mode": {
    "name": "ipython",
    "version": 2
   },
   "file_extension": ".py",
   "mimetype": "text/x-python",
   "name": "python",
   "nbconvert_exporter": "python",
   "pygments_lexer": "ipython2",
   "version": "2.7.10"
  }
 },
 "nbformat": 4,
 "nbformat_minor": 0
}
