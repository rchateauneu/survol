{
 "cells": [
  {
   "cell_type": "markdown",
   "metadata": {
    "collapsed": true
   },
   "source": [
    "Test lib_client, local use of Survol API."
   ]
  },
  {
   "cell_type": "code",
   "execution_count": 143,
   "metadata": {
    "collapsed": false
   },
   "outputs": [
    {
     "name": "stderr",
     "output_type": "stream",
     "text": [
      "Deleting lib_patterns\n",
      "Deleting lib_credentials\n",
      "Deleting lib_mime\n",
      "Deleting lib_common\n",
      "Deleting lib_export_dot\n",
      "Deleting survol.sources_types.CIM_DataFile.time\n",
      "Deleting lib_naming\n",
      "Deleting lib_kbase\n",
      "Deleting survol\n",
      "Deleting survol.sources_types\n",
      "Deleting lib_grammar\n",
      "Deleting survol.sources_types.CIM_DataFile.json\n",
      "Deleting survol.sources_types.CIM_DataFile.os\n",
      "Deleting survol.sources_types.CIM_DataFile.sys\n",
      "Deleting lib_util\n",
      "Deleting survol.sources_types.CIM_DataFile.lib_uris\n",
      "Deleting survol.sources_types.CIM_DataFile.datetime\n",
      "Deleting lib_client\n",
      "Deleting survol.sources_types.CIM_DataFile\n",
      "Deleting lib_win32\n",
      "Deleting survol.sources_types.CIM_DataFile.lib_properties\n",
      "Deleting survol.sources_types.CIM_DataFile.lib_mime\n",
      "Deleting survol.sources_types.CIM_DataFile.sources_types\n",
      "Deleting lib_uris\n",
      "Deleting survol.sources_types.CIM_DataFile.file_stat\n",
      "Deleting lib_exports\n",
      "Deleting survol.sources_types.CIM_DataFile.lib_util\n",
      "Deleting survol.sources_types.CIM_DataFile.lib_common\n",
      "Deleting lib_properties\n",
      "C:\\Users\\rchateau\\Developpement\\ReverseEngineeringApps\\PythonStyle\\survol\\__init__.pyc\n",
      "UriRootHelper urh=http://LOCAL_MODE:80/survol\n",
      "TopScriptsFunc currDir=C:\\Users\\rchateau\\Developpement\\ReverseEngineeringApps\\PythonStyle\\Experimental\\Jupyter_Notebook_Tests idx=-1\n",
      "Done C:\\Users\\rchateau\\Developpement\\ReverseEngineeringApps\\PythonStyle\\survol\\__init__.pyc\n"
     ]
    }
   ],
   "source": [
    "# This loads the module from the source, so no need to install it,\n",
    "# and no need of virtualenv.\n",
    "import sys\n",
    "filRoot = \"C:\\\\Users\\\\rchateau\\\\Developpement\\\\ReverseEngineeringApps\\\\PythonStyle\\\\survol\"\n",
    "if sys.path[0] != filRoot:\n",
    "    sys.path.insert(0,filRoot)\n",
    "    print(sys.path)\n",
    "\n",
    "# This deletes the module so we can reload them each time.\n",
    "# Problem: survol modules are not detectable.\n",
    "# We could as well delete all modules except sys.\n",
    "allModules = [ modu for modu in sys.modules if modu.startswith(\"survol\") or modu.startswith(\"lib_\")]\n",
    "\n",
    "for modu in allModules:\n",
    "    sys.stderr.write(\"Deleting %s\\n\"%modu)\n",
    "    del sys.modules[modu]\n",
    "\n",
    "sys.stderr.write(\"%s\\n\"%survol.__file__)\n",
    "import lib_common\n",
    "import lib_util\n",
    "import lib_client\n",
    "sys.stderr.write(\"Done %s\\n\"%survol.__file__)\n"
   ]
  },
  {
   "cell_type": "code",
   "execution_count": 144,
   "metadata": {
    "collapsed": false
   },
   "outputs": [
    {
     "name": "stderr",
     "output_type": "stream",
     "text": [
      "get_content_moded the_url=http://rchateau-hp:8000/survol/sources_types/CIM_DataFile/file_stat.py?xid=CIM_DataFile.Name%3DC%3A%5CWindows%5Cexplorer.exe&mode=json\n"
     ]
    },
    {
     "name": "stdout",
     "output_type": "stream",
     "text": [
      "url3= http://rchateau-hp:8000/survol/sources_types/CIM_DataFile/file_stat.py?xid=CIM_DataFile.Name%3DC%3A%5CWindows%5Cexplorer.exe\n",
      "qry3= xid=CIM_DataFile.Name%3DC%3A%5CWindows%5Cexplorer.exe\n",
      "('__url_with_mode mode=', 'json')\n",
      "json3= {u'nodes': [{u'entity_class': \n",
      "('__url_with_mode mode=', 'rdf')\n"
     ]
    },
    {
     "name": "stderr",
     "output_type": "stream",
     "text": [
      "get_content_moded the_url=http://rchateau-hp:8000/survol/sources_types/CIM_DataFile/file_stat.py?xid=CIM_DataFile.Name%3DC%3A%5CWindows%5Cexplorer.exe&mode=rdf\n"
     ]
    },
    {
     "name": "stdout",
     "output_type": "stream",
     "text": [
      "rdf3= <?xml version=\"1.0\" encoding=\"\n",
      "\n",
      "qry4=xid=CIM_DataFile.Name%3DC%3A%5CWindows%5Cexplorer.exe\n",
      "json4={u'nodes': [{u'entity_class': u'CIM_DataFile', u's\n",
      "rdf4=<?xml version=\"1.0\" encoding=\"UTF-8\"?>\n",
      "<rdf:RDF\n",
      "  \n",
      "\n",
      "xid=\n",
      "http://vps516494.ovh.net/Survol/survol/sources_types/enumerate_CIM_Process.py?xid=\n",
      "('__url_with_mode mode=', 'json')\n"
     ]
    },
    {
     "name": "stderr",
     "output_type": "stream",
     "text": [
      "__execute_script_with_mode before render=OutputMachineCgi\n",
      "OutputMachineString init\n",
      "CgiEnv parameters={}\n",
      "GetCallingModuleDoc Main module:<module '__main__' (built-in)>\n",
      "GetCallingModuleDoc Main module:__main__\n",
      "CgiEnv m_page_title=Automatically created module for IPython interactive environment m_calling_url=/survol/sources_types/CIM_DataFile/file_stat.py?xid=CIM_DataFile.Name%3DC%3A%5CWindows%5Cexplorer.exe&mode=json\n",
      "CgiEnv m_entity_type=CIM_DataFile m_entity_id=Name=C:\\Windows\\explorer.exe m_entity_host=\n",
      "GetId m_entity_type=CIM_DataFile m_entity_id=Name=C:\\Windows\\explorer.exe\n",
      "GetId splitKV={'Name': 'C:\\\\Windows\\\\explorer.exe'}\n",
      "filNam=C:\\Windows\\explorer.exe\n",
      "File magic unavailable:C:\\Windows\\explorer.exe\n",
      "Domain=NT SERVICE Name=TrustedInstaller Type=Well-known group\n",
      "dirPath=C:\\Windows\n",
      "dirPath=C:\\\n",
      "OutCgiRdf globalMergeMode=0 m_calling_url=/survol/sources_types/CIM_DataFile/file_stat.py?xid=CIM_DataFile.Name%3DC%3A%5CWindows%5Cexplorer.exe&mode=json m_page_title=Automatically created module for IPython interactive environment explorer.exe\n",
      "\n",
      "Standard data file.\n",
      "\n",
      "OutputMachineString HeaderWriter:application/json\n",
      "OutputMachineString OutStream\n",
      "__execute_script_with_mode before restore=OutputMachineString\n",
      "__execute_script_with_mode strResult={\n",
      "  \"nodes\": [\n",
      "    {\n",
      "      \"su\n",
      "__execute_script_with_mode before render=OutputMachineCgi\n",
      "OutputMachineString init\n",
      "CgiEnv parameters={}\n",
      "GetCallingModuleDoc Main module:<module '__main__' (built-in)>\n",
      "GetCallingModuleDoc Main module:__main__\n",
      "CgiEnv m_page_title=Automatically created module for IPython interactive environment m_calling_url=/survol/sources_types/CIM_DataFile/file_stat.py?xid=CIM_DataFile.Name%3DC%3A%5CWindows%5Cexplorer.exe&mode=rdf\n",
      "CgiEnv m_entity_type=CIM_DataFile m_entity_id=Name=C:\\Windows\\explorer.exe m_entity_host=\n",
      "GetId m_entity_type=CIM_DataFile m_entity_id=Name=C:\\Windows\\explorer.exe\n",
      "GetId splitKV={'Name': 'C:\\\\Windows\\\\explorer.exe'}\n",
      "filNam=C:\\Windows\\explorer.exe\n",
      "File magic unavailable:C:\\Windows\\explorer.exe\n",
      "Domain=NT SERVICE Name=TrustedInstaller Type=Well-known group\n",
      "dirPath=C:\\Windows\n",
      "dirPath=C:\\\n",
      "OutCgiRdf globalMergeMode=0 m_calling_url=/survol/sources_types/CIM_DataFile/file_stat.py?xid=CIM_DataFile.Name%3DC%3A%5CWindows%5Cexplorer.exe&mode=rdf m_page_title=Automatically created module for IPython interactive environment explorer.exe\n",
      "\n",
      "Standard data file.\n",
      "\n",
      "OutputMachineString HeaderWriter:text/rdf\n",
      "OutputMachineString OutStream\n",
      "__execute_script_with_mode before restore=OutputMachineString\n",
      "__execute_script_with_mode strResult=<?xml version=\"1.0\" encoding=\"\n",
      "get_content_moded the_url=http://vps516494.ovh.net/Survol/survol/sources_types/enumerate_CIM_Process.py?xid=&mode=json\n"
     ]
    },
    {
     "name": "stdout",
     "output_type": "stream",
     "text": [
      "{u'nodes': [{u'entity_class': \n",
      "http://rchateau-hp:8000/survol/sources_types/java/java_processes.py?xid=\n",
      "SourceCgi.IsCgiComplete\n",
      "<lib_client.SourceMergePlus object at 0x0000000007849DD8>\n",
      "('__url_with_mode mode=', 'rdf')\n"
     ]
    },
    {
     "name": "stderr",
     "output_type": "stream",
     "text": [
      "get_content_moded the_url=http://vps516494.ovh.net/Survol/survol/sources_types/enumerate_CIM_Process.py?xid=&mode=rdf\n"
     ]
    },
    {
     "name": "stdout",
     "output_type": "stream",
     "text": [
      "SourceCgi.IsCgiComplete\n",
      "('__url_with_mode mode=', 'rdf')\n"
     ]
    },
    {
     "name": "stderr",
     "output_type": "stream",
     "text": [
      "get_content_moded the_url=http://rchateau-hp:8000/survol/sources_types/java/java_processes.py?xid=&mode=rdf\n"
     ]
    },
    {
     "name": "stdout",
     "output_type": "stream",
     "text": [
      "<?xml version=\"1.0\" encoding=\"\n",
      "\n"
     ]
    }
   ],
   "source": [
    "from __future__ import print_function\n",
    "\n",
    "# http://rchateau-hp:8000/survol/sources_types/CIM_DataFile/file_stat.py?xid=CIM_DataFile.Name%3DC%3A%2FWindows%2Fexplorer.exe\n",
    "mySource3 = lib_client.SourceUrl(\n",
    "    \"http://rchateau-hp:8000/survol/sources_types/CIM_DataFile/file_stat.py\",\n",
    "    \"CIM_DataFile\",\n",
    "    Name=\"C:\\\\Windows\\\\explorer.exe\")\n",
    "print(\"url3=\",mySource3.Url())\n",
    "print(\"qry3=\",mySource3.UrlQuery())\n",
    "print(\"json3=\",str(mySource3.content_json())[:30])\n",
    "print(\"rdf3=\",str(mySource3.content_rdf())[:30])\n",
    "print(\"\")\n",
    "\n",
    "# This should return the same content, but much faster.\n",
    "mySource4 = lib_client.SourceScript(\n",
    "    \"survol/sources_types/CIM_DataFile/file_stat.py\",\n",
    "    \"CIM_DataFile\",\n",
    "    Name=\"C:\\\\Windows\\\\explorer.exe\")\n",
    "print(\"qry4=%s\"%mySource4.UrlQuery())\n",
    "print(\"json4=%s\"%str(mySource4.content_json())[:50])\n",
    "print(\"rdf4=%s\"%str(mySource4.content_rdf())[:50])\n",
    "print(\"\")\n",
    "\n",
    "mySource1 = lib_client.SourceUrl(\"http://vps516494.ovh.net/Survol/survol/sources_types/enumerate_CIM_Process.py\")\n",
    "print(mySource1.UrlQuery())\n",
    "print(mySource1.Url())\n",
    "print( str(mySource1.content_json())[:30])\n",
    "\n",
    "mySource2 = lib_client.SourceUrl(\"http://rchateau-hp:8000/survol/sources_types/java/java_processes.py\")\n",
    "print(mySource2.Url())\n",
    "\n",
    "mySrcMerge = mySource1 + mySource2\n",
    "print(mySrcMerge)\n",
    "print(str(mySrcMerge.content_rdf())[:30])\n",
    "print(\"\")\n"
   ]
  },
  {
   "cell_type": "code",
   "execution_count": null,
   "metadata": {
    "collapsed": true
   },
   "outputs": [],
   "source": []
  }
 ],
 "metadata": {
  "kernelspec": {
   "display_name": "Python 2",
   "language": "python",
   "name": "python2"
  },
  "language_info": {
   "codemirror_mode": {
    "name": "ipython",
    "version": 2
   },
   "file_extension": ".py",
   "mimetype": "text/x-python",
   "name": "python",
   "nbconvert_exporter": "python",
   "pygments_lexer": "ipython2",
   "version": "2.7.10"
  }
 },
 "nbformat": 4,
 "nbformat_minor": 0
}
