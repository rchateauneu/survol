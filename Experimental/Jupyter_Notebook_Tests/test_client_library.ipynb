{
 "cells": [
  {
   "cell_type": "markdown",
   "metadata": {
    "collapsed": true
   },
   "source": [
    "Test lib_client, local use of Survol API."
   ]
  },
  {
   "cell_type": "code",
   "execution_count": 18,
   "metadata": {
    "collapsed": false
   },
   "outputs": [
    {
     "name": "stdout",
     "output_type": "stream",
     "text": [
      "C:\\Users\\rchateau\\Developpement\\ReverseEngineeringApps\\PythonStyle\\survol\\__init__.pyc\n"
     ]
    },
    {
     "name": "stderr",
     "output_type": "stream",
     "text": [
      "No SCRIPT_NAME\n",
      "UriRootHelper urh=http://LOCAL_MODE:80/NotRunningAsCgi\n",
      "TopScriptsFunc currDir=C:\\Users\\rchateau\\Developpement\\ReverseEngineeringApps\\PythonStyle\\Experimental\\Jupyter_Notebook_Tests idx=-1\n"
     ]
    }
   ],
   "source": [
    "# This loads the module from the source, so no need to install it,\n",
    "# and no need of virtualenv.\n",
    "import sys\n",
    "filRoot = \"C:\\\\Users\\\\rchateau\\\\Developpement\\\\ReverseEngineeringApps\\\\PythonStyle\"\n",
    "if sys.path[0] != filRoot:\n",
    "    sys.path.insert(0,filRoot)\n",
    "    print(sys.path)\n",
    "\n",
    "    \n",
    "def DelModu(modu):\n",
    "    if modu in sys.modules:\n",
    "        del sys.modules[modu]\n",
    "        \n",
    "# This deletes the module so we can reload them each time.\n",
    "# Not very reliable but OK for testing.\n",
    "for modu in ['survol','survol.lib_common','survol.lib_util','survol.lib_client']:\n",
    "    DelModu(modu)\n",
    "\n",
    "import survol\n",
    "print(survol.__file__)\n",
    "from survol import lib_common\n",
    "from survol import lib_util\n",
    "from survol import lib_client\n"
   ]
  },
  {
   "cell_type": "code",
   "execution_count": 21,
   "metadata": {
    "collapsed": false
   },
   "outputs": [
    {
     "name": "stdout",
     "output_type": "stream",
     "text": [
      "?xid=.\n",
      "?xid=CIM_Process.Handle=123\n",
      "?xid=.\n",
      "http://vps516494.ovh.net/Survol/survol/sources_types/enumerate_CIM_Process.py?xid=.\n",
      "get_content_moded the_url=http://vps516494.ovh.net/Survol/survol/sources_types/enumerate_CIM_Process.py?xid=.&mode=json\n",
      "{u'nodes': [{u'entity_class': \n",
      "http://rchateau-hp:8000/survol/sources_types/java/java_processes.py?xid=.\n",
      "SourceCgi.IsCgiComplete\n",
      "<survol.lib_client.SourceMergePlus object at 0x0000000004643630>\n",
      "('url3=', 'http://rchateau-hp:8000/survol/sources_types/CIM_DataFile/file_stat.py?xid=CIM_DataFile.Name=C:\\\\Windows\\\\explorer.exe')\n",
      "('qry3=', '?xid=CIM_DataFile.Name=C:\\\\Windows\\\\explorer.exe')\n",
      "get_content_moded the_url=http://rchateau-hp:8000/survol/sources_types/CIM_DataFile/file_stat.py?xid=CIM_DataFile.Name=C:\\Windows\\explorer.exe&mode=json\n",
      "('content3=', \"{u'nodes': [{u'entity_class': \")\n",
      "('qry4=', '?xid=CIM_DataFile.Name=C:\\\\Windows\\\\explorer.exe')\n"
     ]
    },
    {
     "ename": "ImportError",
     "evalue": "No module named lib_common",
     "output_type": "error",
     "traceback": [
      "\u001b[1;31m---------------------------------------------------------------------------\u001b[0m",
      "\u001b[1;31mImportError\u001b[0m                               Traceback (most recent call last)",
      "\u001b[1;32m<ipython-input-21-40fd72c65c32>\u001b[0m in \u001b[0;36m<module>\u001b[1;34m()\u001b[0m\n\u001b[0;32m     30\u001b[0m     Name=\"C:\\\\Windows\\\\explorer.exe\")\n\u001b[0;32m     31\u001b[0m \u001b[1;32mprint\u001b[0m\u001b[1;33m(\u001b[0m\u001b[1;34m\"qry4=\"\u001b[0m\u001b[1;33m,\u001b[0m\u001b[0mmySource4\u001b[0m\u001b[1;33m.\u001b[0m\u001b[0mQuery\u001b[0m\u001b[1;33m(\u001b[0m\u001b[1;33m)\u001b[0m\u001b[1;33m)\u001b[0m\u001b[1;33m\u001b[0m\u001b[0m\n\u001b[1;32m---> 32\u001b[1;33m \u001b[1;32mprint\u001b[0m\u001b[1;33m(\u001b[0m\u001b[1;34m\"content4=\"\u001b[0m\u001b[1;33m,\u001b[0m\u001b[0mstr\u001b[0m\u001b[1;33m(\u001b[0m\u001b[0mmySource4\u001b[0m\u001b[1;33m.\u001b[0m\u001b[0mcontent_json\u001b[0m\u001b[1;33m(\u001b[0m\u001b[1;33m)\u001b[0m\u001b[1;33m)\u001b[0m\u001b[1;33m[\u001b[0m\u001b[1;33m:\u001b[0m\u001b[1;36m30\u001b[0m\u001b[1;33m]\u001b[0m\u001b[1;33m)\u001b[0m\u001b[1;33m\u001b[0m\u001b[0m\n\u001b[0m\u001b[0;32m     33\u001b[0m \u001b[1;33m\u001b[0m\u001b[0m\n",
      "\u001b[1;32mC:\\Users\\rchateau\\Developpement\\ReverseEngineeringApps\\PythonStyle\\survol\\lib_client.py\u001b[0m in \u001b[0;36mcontent_json\u001b[1;34m(self)\u001b[0m\n\u001b[0;32m     45\u001b[0m \u001b[1;33m\u001b[0m\u001b[0m\n\u001b[0;32m     46\u001b[0m         \u001b[1;32mdef\u001b[0m \u001b[0mcontent_json\u001b[0m\u001b[1;33m(\u001b[0m\u001b[0mself\u001b[0m\u001b[1;33m)\u001b[0m\u001b[1;33m:\u001b[0m\u001b[1;33m\u001b[0m\u001b[0m\n\u001b[1;32m---> 47\u001b[1;33m                 \u001b[1;32mreturn\u001b[0m \u001b[0mself\u001b[0m\u001b[1;33m.\u001b[0m\u001b[0mget_content_moded\u001b[0m\u001b[1;33m(\u001b[0m\u001b[1;34m\"json\"\u001b[0m\u001b[1;33m)\u001b[0m\u001b[1;33m\u001b[0m\u001b[0m\n\u001b[0m\u001b[0;32m     48\u001b[0m \u001b[1;33m\u001b[0m\u001b[0m\n\u001b[0;32m     49\u001b[0m         \u001b[1;32mdef\u001b[0m \u001b[0mget_triplestore\u001b[0m\u001b[1;33m(\u001b[0m\u001b[0mself\u001b[0m\u001b[1;33m)\u001b[0m\u001b[1;33m:\u001b[0m\u001b[1;33m\u001b[0m\u001b[0m\n",
      "\u001b[1;32mC:\\Users\\rchateau\\Developpement\\ReverseEngineeringApps\\PythonStyle\\survol\\lib_client.py\u001b[0m in \u001b[0;36mget_content_moded\u001b[1;34m(self, mode)\u001b[0m\n\u001b[0;32m    151\u001b[0m \u001b[1;33m\u001b[0m\u001b[0m\n\u001b[0;32m    152\u001b[0m         \u001b[1;32mdef\u001b[0m \u001b[0mget_content_moded\u001b[0m\u001b[1;33m(\u001b[0m\u001b[0mself\u001b[0m\u001b[1;33m,\u001b[0m\u001b[0mmode\u001b[0m\u001b[1;33m)\u001b[0m\u001b[1;33m:\u001b[0m\u001b[1;33m\u001b[0m\u001b[0m\n\u001b[1;32m--> 153\u001b[1;33m                 \u001b[0mdata_content\u001b[0m \u001b[1;33m=\u001b[0m \u001b[0mself\u001b[0m\u001b[1;33m.\u001b[0m\u001b[0m__execute_script_with_mode\u001b[0m\u001b[1;33m(\u001b[0m\u001b[0mmode\u001b[0m\u001b[1;33m)\u001b[0m\u001b[1;33m\u001b[0m\u001b[0m\n\u001b[0m\u001b[0;32m    154\u001b[0m                 \u001b[1;32mreturn\u001b[0m \u001b[0mdata_content\u001b[0m\u001b[1;33m\u001b[0m\u001b[0m\n\u001b[0;32m    155\u001b[0m \u001b[1;33m\u001b[0m\u001b[0m\n",
      "\u001b[1;32mC:\\Users\\rchateau\\Developpement\\ReverseEngineeringApps\\PythonStyle\\survol\\lib_client.py\u001b[0m in \u001b[0;36m__execute_script_with_mode\u001b[1;34m(self, mode)\u001b[0m\n\u001b[0;32m    136\u001b[0m                 \u001b[0murlFilNam\u001b[0m \u001b[1;33m=\u001b[0m \u001b[0mos\u001b[0m\u001b[1;33m.\u001b[0m\u001b[0mpath\u001b[0m\u001b[1;33m.\u001b[0m\u001b[0mbasename\u001b[0m\u001b[1;33m(\u001b[0m\u001b[0mself\u001b[0m\u001b[1;33m.\u001b[0m\u001b[0mm_script\u001b[0m\u001b[1;33m)\u001b[0m\u001b[1;33m\u001b[0m\u001b[0m\n\u001b[0;32m    137\u001b[0m \u001b[1;33m\u001b[0m\u001b[0m\n\u001b[1;32m--> 138\u001b[1;33m                 \u001b[0mmodu\u001b[0m \u001b[1;33m=\u001b[0m \u001b[0mlib_util\u001b[0m\u001b[1;33m.\u001b[0m\u001b[0mGetScriptModule\u001b[0m\u001b[1;33m(\u001b[0m\u001b[0mmoduNam\u001b[0m\u001b[1;33m,\u001b[0m \u001b[0murlFilNam\u001b[0m\u001b[1;33m)\u001b[0m\u001b[1;33m\u001b[0m\u001b[0m\n\u001b[0m\u001b[0;32m    139\u001b[0m                 \u001b[1;31m# aScript = \"local_scripts_prefix/\" + self.m_script + \"?mode=\" + mode\u001b[0m\u001b[1;33m\u001b[0m\u001b[1;33m\u001b[0m\u001b[0m\n\u001b[0;32m    140\u001b[0m                 \u001b[1;31m# print(\"aScript=\",aScript)\u001b[0m\u001b[1;33m\u001b[0m\u001b[1;33m\u001b[0m\u001b[0m\n",
      "\u001b[1;32mC:\\Users\\rchateau\\Developpement\\ReverseEngineeringApps\\PythonStyle\\survol\\lib_util.pyc\u001b[0m in \u001b[0;36mGetScriptModule\u001b[1;34m(currentModule, fil)\u001b[0m\n\u001b[0;32m   1412\u001b[0m         \u001b[1;32melse\u001b[0m\u001b[1;33m:\u001b[0m\u001b[1;33m\u001b[0m\u001b[0m\n\u001b[0;32m   1413\u001b[0m                 \u001b[1;32mif\u001b[0m \u001b[0mcurrentModule\u001b[0m\u001b[1;33m:\u001b[0m\u001b[1;33m\u001b[0m\u001b[0m\n\u001b[1;32m-> 1414\u001b[1;33m                         \u001b[0mimportedMod\u001b[0m \u001b[1;33m=\u001b[0m \u001b[0mimportlib\u001b[0m\u001b[1;33m.\u001b[0m\u001b[0mimport_module\u001b[0m\u001b[1;33m(\u001b[0m\u001b[0msubClass\u001b[0m\u001b[1;33m,\u001b[0m \u001b[0mcurrentModule\u001b[0m \u001b[1;33m)\u001b[0m\u001b[1;33m\u001b[0m\u001b[0m\n\u001b[0m\u001b[0;32m   1415\u001b[0m                 \u001b[1;32melse\u001b[0m\u001b[1;33m:\u001b[0m\u001b[1;33m\u001b[0m\u001b[0m\n\u001b[0;32m   1416\u001b[0m                         \u001b[1;31m# Just the file name without the extension \".py\"\u001b[0m\u001b[1;33m\u001b[0m\u001b[1;33m\u001b[0m\u001b[0m\n",
      "\u001b[1;32mc:\\python27\\lib\\importlib\\__init__.pyc\u001b[0m in \u001b[0;36mimport_module\u001b[1;34m(name, package)\u001b[0m\n\u001b[0;32m     35\u001b[0m             \u001b[0mlevel\u001b[0m \u001b[1;33m+=\u001b[0m \u001b[1;36m1\u001b[0m\u001b[1;33m\u001b[0m\u001b[0m\n\u001b[0;32m     36\u001b[0m         \u001b[0mname\u001b[0m \u001b[1;33m=\u001b[0m \u001b[0m_resolve_name\u001b[0m\u001b[1;33m(\u001b[0m\u001b[0mname\u001b[0m\u001b[1;33m[\u001b[0m\u001b[0mlevel\u001b[0m\u001b[1;33m:\u001b[0m\u001b[1;33m]\u001b[0m\u001b[1;33m,\u001b[0m \u001b[0mpackage\u001b[0m\u001b[1;33m,\u001b[0m \u001b[0mlevel\u001b[0m\u001b[1;33m)\u001b[0m\u001b[1;33m\u001b[0m\u001b[0m\n\u001b[1;32m---> 37\u001b[1;33m     \u001b[0m__import__\u001b[0m\u001b[1;33m(\u001b[0m\u001b[0mname\u001b[0m\u001b[1;33m)\u001b[0m\u001b[1;33m\u001b[0m\u001b[0m\n\u001b[0m\u001b[0;32m     38\u001b[0m     \u001b[1;32mreturn\u001b[0m \u001b[0msys\u001b[0m\u001b[1;33m.\u001b[0m\u001b[0mmodules\u001b[0m\u001b[1;33m[\u001b[0m\u001b[0mname\u001b[0m\u001b[1;33m]\u001b[0m\u001b[1;33m\u001b[0m\u001b[0m\n",
      "\u001b[1;32mC:\\Users\\rchateau\\Developpement\\ReverseEngineeringApps\\PythonStyle\\survol\\sources_types\\CIM_DataFile\\__init__.py\u001b[0m in \u001b[0;36m<module>\u001b[1;34m()\u001b[0m\n\u001b[0;32m      6\u001b[0m \u001b[1;32mimport\u001b[0m \u001b[0msys\u001b[0m\u001b[1;33m\u001b[0m\u001b[0m\n\u001b[0;32m      7\u001b[0m \u001b[1;32mimport\u001b[0m \u001b[0mdatetime\u001b[0m\u001b[1;33m\u001b[0m\u001b[0m\n\u001b[1;32m----> 8\u001b[1;33m \u001b[1;32mimport\u001b[0m \u001b[0mlib_common\u001b[0m\u001b[1;33m\u001b[0m\u001b[0m\n\u001b[0m\u001b[0;32m      9\u001b[0m \u001b[1;32mimport\u001b[0m \u001b[0mlib_util\u001b[0m\u001b[1;33m\u001b[0m\u001b[0m\n\u001b[0;32m     10\u001b[0m \u001b[1;32mimport\u001b[0m \u001b[0mlib_uris\u001b[0m\u001b[1;33m\u001b[0m\u001b[0m\n",
      "\u001b[1;31mImportError\u001b[0m: No module named lib_common"
     ]
    }
   ],
   "source": [
    "mySource = survol.lib_client.SourceScript(\"toto.py\")\n",
    "print(mySource.Query())\n",
    "mySource = survol.lib_client.SourceScript(\"toto.py\",\"CIM_Process\",Handle=123)\n",
    "print(mySource.Query())\n",
    "\n",
    "mySource1 = survol.lib_client.SourceUrl(\"http://vps516494.ovh.net/Survol/survol/sources_types/enumerate_CIM_Process.py\")\n",
    "print(mySource1.Query())\n",
    "print(mySource1.Url())\n",
    "print( str(mySource1.content_json())[:30])\n",
    "\n",
    "mySource2 = survol.lib_client.SourceUrl(\"http://rchateau-hp:8000/survol/sources_types/java/java_processes.py\")\n",
    "print(mySource2.Url())\n",
    "\n",
    "mySrcMerge = mySource1 + mySource2\n",
    "print(mySrcMerge)\n",
    "\n",
    "# http://rchateau-hp:8000/survol/sources_types/CIM_DataFile/file_stat.py?xid=CIM_DataFile.Name%3DC%3A%2FWindows%2Fexplorer.exe\n",
    "mySource3 = survol.lib_client.SourceUrl(\n",
    "    \"http://rchateau-hp:8000/survol/sources_types/CIM_DataFile/file_stat.py\",\n",
    "    \"CIM_DataFile\",\n",
    "    Name=\"C:\\\\Windows\\\\explorer.exe\")\n",
    "print(\"url3=\",mySource3.Url())\n",
    "print(\"qry3=\",mySource3.Query())\n",
    "print(\"content3=\",str(mySource3.content_json())[:30])\n",
    "\n",
    "# This should return the same content, but much faster.\n",
    "mySource4 = survol.lib_client.SourceScript(\n",
    "    \"survol/sources_types/CIM_DataFile/file_stat.py\",\n",
    "    \"CIM_DataFile\",\n",
    "    Name=\"C:\\\\Windows\\\\explorer.exe\")\n",
    "print(\"qry4=\",mySource4.Query())\n",
    "print(\"content4=\",str(mySource4.content_json())[:30])\n",
    "\n"
   ]
  },
  {
   "cell_type": "code",
   "execution_count": null,
   "metadata": {
    "collapsed": true
   },
   "outputs": [],
   "source": []
  }
 ],
 "metadata": {
  "kernelspec": {
   "display_name": "Python 2",
   "language": "python",
   "name": "python2"
  },
  "language_info": {
   "codemirror_mode": {
    "name": "ipython",
    "version": 2
   },
   "file_extension": ".py",
   "mimetype": "text/x-python",
   "name": "python",
   "nbconvert_exporter": "python",
   "pygments_lexer": "ipython2",
   "version": "2.7.10"
  }
 },
 "nbformat": 4,
 "nbformat_minor": 0
}
