{
 "cells": [
  {
   "cell_type": "markdown",
   "metadata": {
    "collapsed": true
   },
   "source": [
    "Test lib_client, local use of Survol API."
   ]
  },
  {
   "cell_type": "code",
   "execution_count": 1,
   "metadata": {
    "collapsed": false
   },
   "outputs": [
    {
     "name": "stdout",
     "output_type": "stream",
     "text": [
      "['C:\\\\Users\\\\rchateau\\\\Developpement\\\\ReverseEngineeringApps\\\\PythonStyle\\\\survol', '', 'c:\\\\python27\\\\lib\\\\site-packages\\\\werkzeug-0.10.4-py2.7.egg', 'c:\\\\python27\\\\lib\\\\site-packages\\\\yawn-0.1.7-py2.7.egg', 'c:\\\\python27\\\\lib\\\\site-packages\\\\mako-1.0.1-py2.7.egg', 'c:\\\\python27\\\\lib\\\\site-packages\\\\distribute-0.7.3-py2.7.egg', 'c:\\\\python27\\\\lib\\\\site-packages\\\\markupsafe-0.23-py2.7.egg', 'c:\\\\python27\\\\lib\\\\site-packages\\\\openlmi_tools-0.10.4-py2.7.egg', 'c:\\\\python27\\\\lib\\\\site-packages\\\\openlmi-0.4.1-py2.7.egg', 'c:\\\\python27\\\\lib\\\\site-packages\\\\docopt-0.6.2-py2.7.egg', 'c:\\\\python27\\\\lib\\\\site-packages\\\\haystack-0.35-py2.7.egg', 'C:\\\\windows\\\\system32\\\\python27.zip', 'c:\\\\python27\\\\DLLs', 'c:\\\\python27\\\\lib', 'c:\\\\python27\\\\lib\\\\plat-win', 'c:\\\\python27\\\\lib\\\\lib-tk', 'c:\\\\python27', 'c:\\\\python27\\\\lib\\\\site-packages', 'c:\\\\python27\\\\lib\\\\site-packages\\\\win32', 'c:\\\\python27\\\\lib\\\\site-packages\\\\win32\\\\lib', 'c:\\\\python27\\\\lib\\\\site-packages\\\\Pythonwin', 'c:\\\\python27\\\\lib\\\\site-packages\\\\IPython\\\\extensions', 'C:\\\\Users\\\\rchateau\\\\.ipython']\n"
     ]
    },
    {
     "name": "stderr",
     "output_type": "stream",
     "text": [
      "UriRootHelper SERVER_NAME MUST BE DEFINED\n",
      "No SCRIPT_NAME\n",
      "UriRootHelper urh=http://LOCAL_MODE:80/NotRunningAsCgi\n",
      "Setting uriRoot. __file__=C:\\Users\\rchateau\\Developpement\\ReverseEngineeringApps\\PythonStyle\\survol\\lib_util.pyc\n",
      "TopScriptsFunc currDir=C:\\Users\\rchateau\\Developpement\\ReverseEngineeringApps\\PythonStyle\\Experimental\\Jupyter_Notebook_Tests idx=-1\n",
      "lib_util.py reinit globalOutMach\n"
     ]
    }
   ],
   "source": [
    "from __future__ import print_function\n",
    "\n",
    "\n",
    "# This loads the module from the source, so no need to install it,\n",
    "# and no need of virtualenv.\n",
    "import sys\n",
    "filRoot = \"C:\\\\Users\\\\rchateau\\\\Developpement\\\\ReverseEngineeringApps\\\\PythonStyle\\\\survol\"\n",
    "if sys.path[0] != filRoot:\n",
    "    sys.path.insert(0,filRoot)\n",
    "    print(sys.path)\n",
    "    \n",
    "\n",
    "#Verifier les fichiers des modules\n",
    "#Virer dans sys.path tout ce qui contient \"survol\"\n",
    "#Verifier qu on ne touche pas au sys.path \n",
    "#Verifier les id des variables identiques dans plusieurs modules homonymes.\n",
    "\n",
    "# This deletes the module so we can reload them each time.\n",
    "# Problem: survol modules are not detectable.\n",
    "# We could as well delete all modules except sys.\n",
    "allModules = [ modu for modu in sys.modules if modu.startswith(\"survol\") or modu.startswith(\"lib_\")]\n",
    "\n",
    "for modu in allModules:\n",
    "    # sys.stderr.write(\"Deleting %s\\n\"%modu)\n",
    "    del sys.modules[modu]\n",
    "\n",
    "#sys.stderr.write(\"%s\\n\"%__file__)\n",
    "import lib_common\n",
    "import lib_util\n",
    "import lib_client\n",
    "#sys.stderr.write(\"Done %s\\n\"%__file__)\n",
    "\n",
    "\n"
   ]
  },
  {
   "cell_type": "code",
   "execution_count": 2,
   "metadata": {
    "collapsed": false
   },
   "outputs": [
    {
     "name": "stdout",
     "output_type": "stream",
     "text": [
      "urlFileStatRemote= http://rchateau-hp:8000/survol/sources_types/CIM_DataFile/file_stat.py?xid=CIM_DataFile.Name%3DC%3A%5CWindows%5Cexplorer.exe\n",
      "qryFileStatRemote= xid=CIM_DataFile.Name%3DC%3A%5CWindows%5Cexplorer.exe\n",
      "jsonFileStatRemote= {u'nodes': [{u'entity_class': \n",
      "rdfFileStatRemote= <?xml version=\"1.0\" encoding=\"\n"
     ]
    }
   ],
   "source": [
    "# Test creation of various data sources.\n",
    "\n",
    "# http://rchateau-hp:8000/survol/sources_types/CIM_DataFile/file_stat.py?xid=CIM_DataFile.Name%3DC%3A%2FWindows%2Fexplorer.exe\n",
    "mySourceFileStatRemote = lib_client.SourceUrl(\n",
    "    \"http://rchateau-hp:8000/survol/sources_types/CIM_DataFile/file_stat.py\",\n",
    "    \"CIM_DataFile\",\n",
    "    Name=\"C:\\\\Windows\\\\explorer.exe\")\n",
    "print(\"urlFileStatRemote=\",mySourceFileStatRemote.Url())\n",
    "print(\"qryFileStatRemote=\",mySourceFileStatRemote.UrlQuery())\n",
    "print(\"jsonFileStatRemote=\",str(mySourceFileStatRemote.content_json())[:30])\n",
    "print(\"rdfFileStatRemote=\",str(mySourceFileStatRemote.content_rdf())[:30])\n",
    "tripleFileStatRemote = mySourceFileStatRemote.GetTriplestore()\n"
   ]
  },
  {
   "cell_type": "code",
   "execution_count": 3,
   "metadata": {
    "collapsed": false
   },
   "outputs": [
    {
     "name": "stdout",
     "output_type": "stream",
     "text": [
      "qryFileStatLocal=xid=CIM_DataFile.Name%3DC%3A%5CWindows%5Cexplorer.exe\n",
      "jsonFileStatLocal={u'nodes': [{u'entity_class': \n",
      "rdfFileStatLocal=<?xml version=\"1.0\" encoding=\"\n"
     ]
    },
    {
     "name": "stderr",
     "output_type": "stream",
     "text": [
      "CgiEnv m_page_title=_types.CIM_DataFile.file_stat:No doc m_calling_url=/sources_types/CIM_DataFile/file_stat.py?xid=CIM_DataFile.Name%3DC%3A%5CWindows%5Cexplorer.exe&mode=json\n",
      "GetId m_entity_type=CIM_DataFile m_entity_id=Name=C:\\Windows\\explorer.exe\n",
      "GetId splitKV={'Name': 'C:\\\\Windows\\\\explorer.exe'}\n",
      "filNam=C:\\Windows\\explorer.exe\n",
      "File magic unavailable:C:\\Windows\\explorer.exe\n",
      "Domain=NT SERVICE Name=TrustedInstaller Type=Well-known group\n",
      "dirPath=C:\\Windows\n",
      "dirPath=C:\\\n",
      "OutCgiRdf globalMergeMode=0 m_calling_url=/sources_types/CIM_DataFile/file_stat.py?xid=CIM_DataFile.Name%3DC%3A%5CWindows%5Cexplorer.exe&mode=json m_page_title=_types.CIM_DataFile.file_stat:No doc explorer.exe\n",
      "\n",
      "Standard data file.\n",
      "\n",
      "__execute_script_with_mode strResult={\n",
      "  \"nodes\": [\n",
      "    {\n",
      "      \"su\n",
      "CgiEnv m_page_title=_types.CIM_DataFile.file_stat:No doc m_calling_url=/sources_types/CIM_DataFile/file_stat.py?xid=CIM_DataFile.Name%3DC%3A%5CWindows%5Cexplorer.exe&mode=rdf\n",
      "GetId m_entity_type=CIM_DataFile m_entity_id=Name=C:\\Windows\\explorer.exe\n",
      "GetId splitKV={'Name': 'C:\\\\Windows\\\\explorer.exe'}\n",
      "filNam=C:\\Windows\\explorer.exe\n",
      "File magic unavailable:C:\\Windows\\explorer.exe\n",
      "Domain=NT SERVICE Name=TrustedInstaller Type=Well-known group\n",
      "dirPath=C:\\Windows\n",
      "dirPath=C:\\\n",
      "OutCgiRdf globalMergeMode=0 m_calling_url=/sources_types/CIM_DataFile/file_stat.py?xid=CIM_DataFile.Name%3DC%3A%5CWindows%5Cexplorer.exe&mode=rdf m_page_title=_types.CIM_DataFile.file_stat:No doc explorer.exe\n",
      "\n",
      "Standard data file.\n",
      "\n",
      "__execute_script_with_mode strResult=<?xml version=\"1.0\" encoding=\"\n",
      "CgiEnv m_page_title=_types.CIM_DataFile.file_stat:No doc m_calling_url=/sources_types/CIM_DataFile/file_stat.py?xid=CIM_DataFile.Name%3DC%3A%5CWindows%5Cexplorer.exe&mode=rdf\n",
      "GetId m_entity_type=CIM_DataFile m_entity_id=Name=C:\\Windows\\explorer.exe\n",
      "GetId splitKV={'Name': 'C:\\\\Windows\\\\explorer.exe'}\n",
      "filNam=C:\\Windows\\explorer.exe\n",
      "File magic unavailable:C:\\Windows\\explorer.exe\n",
      "Domain=NT SERVICE Name=TrustedInstaller Type=Well-known group\n",
      "dirPath=C:\\Windows\n",
      "dirPath=C:\\\n",
      "OutCgiRdf globalMergeMode=0 m_calling_url=/sources_types/CIM_DataFile/file_stat.py?xid=CIM_DataFile.Name%3DC%3A%5CWindows%5Cexplorer.exe&mode=rdf m_page_title=_types.CIM_DataFile.file_stat:No doc explorer.exe\n",
      "\n",
      "Standard data file.\n",
      "\n",
      "__execute_script_with_mode strResult=<?xml version=\"1.0\" encoding=\"\n"
     ]
    }
   ],
   "source": [
    "# This should return the same content, but much faster.\n",
    "mySourceFileStatLocal = lib_client.SourceScript(\n",
    "    \"sources_types/CIM_DataFile/file_stat.py\",\n",
    "    \"CIM_DataFile\",\n",
    "    Name=\"C:\\\\Windows\\\\explorer.exe\")\n",
    "print(\"qryFileStatLocal=%s\"%mySourceFileStatLocal.UrlQuery())\n",
    "print(\"jsonFileStatLocal=%s\"%str(mySourceFileStatLocal.content_json())[:30])\n",
    "print(\"rdfFileStatLocal=%s\"%str(mySourceFileStatLocal.content_rdf())[:30])\n",
    "tripleFileStatLocal = mySourceFileStatLocal.GetTriplestore()\n"
   ]
  },
  {
   "cell_type": "code",
   "execution_count": 4,
   "metadata": {
    "collapsed": false
   },
   "outputs": [
    {
     "name": "stdout",
     "output_type": "stream",
     "text": [
      "[a rdfg:Graph;rdflib:storage [a rdflib:Store;rdfs:label 'IOMemory']].\n"
     ]
    },
    {
     "name": "stderr",
     "output_type": "stream",
     "text": [
      "GetInstances instanceUrl=2009-07-14 03:38:56\n",
      "GetInstances entity_id=PLAINTEXTONLY\n"
     ]
    },
    {
     "ename": "IndexError",
     "evalue": "list index out of range",
     "output_type": "error",
     "traceback": [
      "\u001b[1;31m---------------------------------------------------------------------------\u001b[0m",
      "\u001b[1;31mIndexError\u001b[0m                                Traceback (most recent call last)",
      "\u001b[1;32m<ipython-input-4-e3bdb932b707>\u001b[0m in \u001b[0;36m<module>\u001b[1;34m()\u001b[0m\n\u001b[0;32m      1\u001b[0m \u001b[1;31m# Comparison\u001b[0m\u001b[1;33m\u001b[0m\u001b[1;33m\u001b[0m\u001b[0m\n\u001b[0;32m      2\u001b[0m \u001b[1;32mprint\u001b[0m\u001b[1;33m(\u001b[0m\u001b[0mtripleFileStatLocal\u001b[0m\u001b[1;33m.\u001b[0m\u001b[0mm_triplestore\u001b[0m\u001b[1;33m)\u001b[0m\u001b[1;33m\u001b[0m\u001b[0m\n\u001b[1;32m----> 3\u001b[1;33m \u001b[1;32mprint\u001b[0m\u001b[1;33m(\u001b[0m\u001b[1;34m\"Len tripleFileStatLocal=\"\u001b[0m\u001b[1;33m,\u001b[0m\u001b[0mlen\u001b[0m\u001b[1;33m(\u001b[0m\u001b[0mtripleFileStatLocal\u001b[0m\u001b[1;33m.\u001b[0m\u001b[0mGetInstances\u001b[0m\u001b[1;33m(\u001b[0m\u001b[1;33m)\u001b[0m\u001b[1;33m)\u001b[0m\u001b[1;33m)\u001b[0m\u001b[1;33m\u001b[0m\u001b[0m\n\u001b[0m\u001b[0;32m      4\u001b[0m \u001b[1;32mprint\u001b[0m\u001b[1;33m(\u001b[0m\u001b[1;34m\"Len tripleFileStatRemote=\"\u001b[0m\u001b[1;33m,\u001b[0m\u001b[0mlen\u001b[0m\u001b[1;33m(\u001b[0m\u001b[0mtripleFileStatRemote\u001b[0m\u001b[1;33m.\u001b[0m\u001b[0mGetInstances\u001b[0m\u001b[1;33m(\u001b[0m\u001b[1;33m)\u001b[0m\u001b[1;33m)\u001b[0m\u001b[1;33m)\u001b[0m\u001b[1;33m\u001b[0m\u001b[0m\n\u001b[0;32m      5\u001b[0m \u001b[1;33m\u001b[0m\u001b[0m\n",
      "\u001b[1;32mC:\\Users\\rchateau\\Developpement\\ReverseEngineeringApps\\PythonStyle\\survol\\lib_client.pyc\u001b[0m in \u001b[0;36mGetInstances\u001b[1;34m(self)\u001b[0m\n\u001b[0;32m    323\u001b[0m                         \u001b[1;31m# BEWARE: Some arguments should be decoded.\u001b[0m\u001b[1;33m\u001b[0m\u001b[1;33m\u001b[0m\u001b[0m\n\u001b[0;32m    324\u001b[0m                         \u001b[0msys\u001b[0m\u001b[1;33m.\u001b[0m\u001b[0mstderr\u001b[0m\u001b[1;33m.\u001b[0m\u001b[0mwrite\u001b[0m\u001b[1;33m(\u001b[0m\u001b[1;34m\"GetInstances entity_id=%s\\n\"\u001b[0m\u001b[1;33m%\u001b[0m\u001b[0mentity_id\u001b[0m\u001b[1;33m)\u001b[0m\u001b[1;33m\u001b[0m\u001b[0m\n\u001b[1;32m--> 325\u001b[1;33m                         \u001b[0mxidDict\u001b[0m \u001b[1;33m=\u001b[0m \u001b[1;33m{\u001b[0m \u001b[0msp\u001b[0m\u001b[1;33m[\u001b[0m\u001b[1;36m0\u001b[0m\u001b[1;33m]\u001b[0m\u001b[1;33m:\u001b[0m\u001b[0msp\u001b[0m\u001b[1;33m[\u001b[0m\u001b[1;36m1\u001b[0m\u001b[1;33m]\u001b[0m \u001b[1;32mfor\u001b[0m \u001b[0msp\u001b[0m \u001b[1;32min\u001b[0m \u001b[1;33m[\u001b[0m \u001b[0mss\u001b[0m\u001b[1;33m.\u001b[0m\u001b[0msplit\u001b[0m\u001b[1;33m(\u001b[0m\u001b[1;34m\"=\"\u001b[0m\u001b[1;33m)\u001b[0m \u001b[1;32mfor\u001b[0m \u001b[0mss\u001b[0m \u001b[1;32min\u001b[0m \u001b[0mentity_id\u001b[0m\u001b[1;33m.\u001b[0m\u001b[0msplit\u001b[0m\u001b[1;33m(\u001b[0m\u001b[1;34m\",\"\u001b[0m\u001b[1;33m)\u001b[0m \u001b[1;33m]\u001b[0m \u001b[1;33m}\u001b[0m\u001b[1;33m\u001b[0m\u001b[0m\n\u001b[0m\u001b[0;32m    326\u001b[0m \u001b[1;33m\u001b[0m\u001b[0m\n\u001b[0;32m    327\u001b[0m                         \u001b[0mnewInstance\u001b[0m \u001b[1;33m=\u001b[0m \u001b[0mCreateCIMClass\u001b[0m\u001b[1;33m(\u001b[0m\u001b[0mentity_label\u001b[0m\u001b[1;33m,\u001b[0m \u001b[0mxidDict\u001b[0m\u001b[1;33m)\u001b[0m\u001b[1;33m\u001b[0m\u001b[0m\n",
      "\u001b[1;32mC:\\Users\\rchateau\\Developpement\\ReverseEngineeringApps\\PythonStyle\\survol\\lib_client.pyc\u001b[0m in \u001b[0;36m<dictcomp>\u001b[1;34m((sp,))\u001b[0m\n\u001b[0;32m    323\u001b[0m                         \u001b[1;31m# BEWARE: Some arguments should be decoded.\u001b[0m\u001b[1;33m\u001b[0m\u001b[1;33m\u001b[0m\u001b[0m\n\u001b[0;32m    324\u001b[0m                         \u001b[0msys\u001b[0m\u001b[1;33m.\u001b[0m\u001b[0mstderr\u001b[0m\u001b[1;33m.\u001b[0m\u001b[0mwrite\u001b[0m\u001b[1;33m(\u001b[0m\u001b[1;34m\"GetInstances entity_id=%s\\n\"\u001b[0m\u001b[1;33m%\u001b[0m\u001b[0mentity_id\u001b[0m\u001b[1;33m)\u001b[0m\u001b[1;33m\u001b[0m\u001b[0m\n\u001b[1;32m--> 325\u001b[1;33m                         \u001b[0mxidDict\u001b[0m \u001b[1;33m=\u001b[0m \u001b[1;33m{\u001b[0m \u001b[0msp\u001b[0m\u001b[1;33m[\u001b[0m\u001b[1;36m0\u001b[0m\u001b[1;33m]\u001b[0m\u001b[1;33m:\u001b[0m\u001b[0msp\u001b[0m\u001b[1;33m[\u001b[0m\u001b[1;36m1\u001b[0m\u001b[1;33m]\u001b[0m \u001b[1;32mfor\u001b[0m \u001b[0msp\u001b[0m \u001b[1;32min\u001b[0m \u001b[1;33m[\u001b[0m \u001b[0mss\u001b[0m\u001b[1;33m.\u001b[0m\u001b[0msplit\u001b[0m\u001b[1;33m(\u001b[0m\u001b[1;34m\"=\"\u001b[0m\u001b[1;33m)\u001b[0m \u001b[1;32mfor\u001b[0m \u001b[0mss\u001b[0m \u001b[1;32min\u001b[0m \u001b[0mentity_id\u001b[0m\u001b[1;33m.\u001b[0m\u001b[0msplit\u001b[0m\u001b[1;33m(\u001b[0m\u001b[1;34m\",\"\u001b[0m\u001b[1;33m)\u001b[0m \u001b[1;33m]\u001b[0m \u001b[1;33m}\u001b[0m\u001b[1;33m\u001b[0m\u001b[0m\n\u001b[0m\u001b[0;32m    326\u001b[0m \u001b[1;33m\u001b[0m\u001b[0m\n\u001b[0;32m    327\u001b[0m                         \u001b[0mnewInstance\u001b[0m \u001b[1;33m=\u001b[0m \u001b[0mCreateCIMClass\u001b[0m\u001b[1;33m(\u001b[0m\u001b[0mentity_label\u001b[0m\u001b[1;33m,\u001b[0m \u001b[0mxidDict\u001b[0m\u001b[1;33m)\u001b[0m\u001b[1;33m\u001b[0m\u001b[0m\n",
      "\u001b[1;31mIndexError\u001b[0m: list index out of range"
     ]
    }
   ],
   "source": [
    "# Comparison\n",
    "print(tripleFileStatLocal.m_triplestore)\n",
    "print(\"Len tripleFileStatLocal=\",len(tripleFileStatLocal.GetInstances()))\n",
    "print(\"Len tripleFileStatRemote=\",len(tripleFileStatRemote.GetInstances()))\n",
    "\n"
   ]
  },
  {
   "cell_type": "code",
   "execution_count": null,
   "metadata": {
    "collapsed": false
   },
   "outputs": [],
   "source": [
    "# Test merge of heterogeneous data sources.\n",
    "mySource1 = lib_client.SourceScript(\n",
    "    \"entity.py\",\n",
    "    \"CIM_LogicalDisk\",\n",
    "    DeviceID=\"D:\")\n",
    "\n",
    "content1 = mySource1.content_json()\n",
    "print( \"content1=\",str(content1.keys()))\n",
    "        \n",
    "mySource2 = lib_client.SourceUrl(\"http://rchateau-hp:8000/survol/sources_types/java/java_processes.py\")\n",
    "\n",
    "mySrcMergePlus = mySource1 + mySource2\n",
    "print(\"Merge plus:\",str(mySrcMergePlus.content_rdf())[:30])\n",
    "triplePlus = mySrcMergePlus.GetTriplestore()\n",
    "#print(\"triplePlus:\",triplePlus.keys()[:30])\n",
    "\n",
    "mySrcMergeMinus = mySource1 - mySource2\n",
    "print(\"Merge Minus:\",str(mySrcMergeMinus.content_rdf())[:30])\n",
    "tripleMinus = mySrcMergeMinus.GetTriplestore()\n",
    "#print(\"tripleMinus:\",triplePlus.keys()[:30])\n"
   ]
  },
  {
   "cell_type": "code",
   "execution_count": null,
   "metadata": {
    "collapsed": false
   },
   "outputs": [],
   "source": [
    "# Test merging twice the same source.\n",
    "\n",
    "mySourceDupl = lib_client.SourceScript(\n",
    "    \"sources_types/Win32_UserAccount/Win32_NetUserGetGroups.py\",\n",
    "    \"Win32_UserAccount\",\n",
    "    Domain=\"rchateau-hp\",\n",
    "    Name=\"rchateau\")\n",
    "tripleDupl = mySourceDupl.GetTriplestore()\n",
    "print(\"Len tripleDupl=\",len(tripleDupl.GetInstances()))\n",
    "\n",
    "mySrcMergePlus = mySourceDupl + mySourceDupl\n",
    "triplePlus = mySrcMergePlus.GetTriplestore()\n",
    "print(\"Len triplePlus=\",len(triplePlus.GetInstances()))\n",
    "\n",
    "mySrcMergeMinus = mySourceDupl + mySourceDupl\n",
    "tripleMinus = mySrcMergeMinus.GetTriplestore()\n",
    "print(\"Len tripleMinus=\",len(tripleMinus.GetInstances()))\n",
    "\n"
   ]
  },
  {
   "cell_type": "code",
   "execution_count": null,
   "metadata": {
    "collapsed": false
   },
   "outputs": [],
   "source": [
    "# Merge completely different sources.\n",
    "\n",
    "mySourceDupl = lib_client.SourceScript(\n",
    "    \"sources_types/Win32_UserAccount/Win32_NetUserGetGroups.py\",\n",
    "    \"Win32_UserAccount\",\n",
    "    Domain=\"rchateau-hp\",\n",
    "    Name=\"rchateau\")\n",
    "tripleDupl = mySourceDupl.GetTriplestore()\n",
    "print(\"Len tripleDupl=\",len(tripleDupl.GetInstances()))\n",
    "\n",
    "mySrcMergePlus = mySourceDupl + mySourceDupl\n",
    "triplePlus = mySrcMergePlus.GetTriplestore()\n",
    "print(\"Len triplePlus=\",len(triplePlus.GetInstances()))\n",
    "\n",
    "mySrcMergeMinus = mySourceDupl + mySourceDupl\n",
    "tripleMinus = mySrcMergeMinus.GetTriplestore()\n",
    "print(\"Len tripleMinus=\",len(tripleMinus.GetInstances()))"
   ]
  },
  {
   "cell_type": "code",
   "execution_count": null,
   "metadata": {
    "collapsed": false
   },
   "outputs": [],
   "source": [
    "# This tests if errors are properly displayed.\n",
    "mySourceBad = lib_client.SourceScript(\n",
    "    \"xxx/yyy/zzz.py\",\n",
    "    \"uuuuu\")\n",
    "try:\n",
    "    tripleBad = mySourceBad.GetTriplestore()\n",
    "except Exception as exc:\n",
    "    print(\"Error detected:\",exc)\n",
    "    \n",
    "    \n",
    "mySourceBad = lib_client.SourceUrl(\n",
    "    \"http://rchateau-hp:8000/xxx/yyy/zzz/ttt.py\",\n",
    "    \"wwwww\")\n",
    "try:\n",
    "    tripleBad = mySourceBad.GetTriplestore()\n",
    "except Exception as exc:\n",
    "    print(\"Error detected:\",exc)\n"
   ]
  },
  {
   "cell_type": "code",
   "execution_count": null,
   "metadata": {
    "collapsed": true
   },
   "outputs": [],
   "source": []
  }
 ],
 "metadata": {
  "kernelspec": {
   "display_name": "Python 2",
   "language": "python",
   "name": "python2"
  },
  "language_info": {
   "codemirror_mode": {
    "name": "ipython",
    "version": 2
   },
   "file_extension": ".py",
   "mimetype": "text/x-python",
   "name": "python",
   "nbconvert_exporter": "python",
   "pygments_lexer": "ipython2",
   "version": "2.7.10"
  }
 },
 "nbformat": 4,
 "nbformat_minor": 0
}
