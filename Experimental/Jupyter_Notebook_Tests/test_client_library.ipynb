{
 "cells": [
  {
   "cell_type": "markdown",
   "metadata": {
    "collapsed": true
   },
   "source": [
    "Test lib_client, local use of Survol API."
   ]
  },
  {
   "cell_type": "code",
   "execution_count": 2,
   "metadata": {
    "collapsed": false
   },
   "outputs": [
    {
     "name": "stdout",
     "output_type": "stream",
     "text": [
      "['C:\\\\Users\\\\rchateau\\\\Developpement\\\\ReverseEngineeringApps\\\\PythonStyle', '', 'c:\\\\python27\\\\lib\\\\site-packages\\\\werkzeug-0.10.4-py2.7.egg', 'c:\\\\python27\\\\lib\\\\site-packages\\\\yawn-0.1.7-py2.7.egg', 'c:\\\\python27\\\\lib\\\\site-packages\\\\mako-1.0.1-py2.7.egg', 'c:\\\\python27\\\\lib\\\\site-packages\\\\distribute-0.7.3-py2.7.egg', 'c:\\\\python27\\\\lib\\\\site-packages\\\\markupsafe-0.23-py2.7.egg', 'c:\\\\python27\\\\lib\\\\site-packages\\\\openlmi_tools-0.10.4-py2.7.egg', 'c:\\\\python27\\\\lib\\\\site-packages\\\\openlmi-0.4.1-py2.7.egg', 'c:\\\\python27\\\\lib\\\\site-packages\\\\docopt-0.6.2-py2.7.egg', 'c:\\\\python27\\\\lib\\\\site-packages\\\\haystack-0.35-py2.7.egg', 'C:\\\\windows\\\\system32\\\\python27.zip', 'c:\\\\python27\\\\DLLs', 'c:\\\\python27\\\\lib', 'c:\\\\python27\\\\lib\\\\plat-win', 'c:\\\\python27\\\\lib\\\\lib-tk', 'c:\\\\python27', 'c:\\\\python27\\\\lib\\\\site-packages', 'c:\\\\python27\\\\lib\\\\site-packages\\\\win32', 'c:\\\\python27\\\\lib\\\\site-packages\\\\win32\\\\lib', 'c:\\\\python27\\\\lib\\\\site-packages\\\\Pythonwin', 'c:\\\\python27\\\\lib\\\\site-packages\\\\IPython\\\\extensions', 'C:\\\\Users\\\\rchateau\\\\.ipython']\n",
      "C:\\Users\\rchateau\\Developpement\\ReverseEngineeringApps\\PythonStyle\\survol\\__init__.pyc\n"
     ]
    },
    {
     "name": "stderr",
     "output_type": "stream",
     "text": [
      "UriRootHelper SERVER_NAME MUST BE DEFINED\n",
      "{'FSHARPINSTALLDIR': 'C:\\\\Program Files (x86)\\\\Microsoft SDKs\\\\F#\\\\10.1\\\\Framework\\\\v4.0\\\\', 'PCBRAND': 'Pavilion', 'COMPUTERNAME': 'RCHATEAU-HP', 'VS110COMNTOOLS': 'C:\\\\Program Files (x86)\\\\Microsoft Visual Studio 11.0\\\\Common7\\\\Tools\\\\', 'USERDOMAIN': 'rchateau-HP', 'PSMODULEPATH': 'C:\\\\windows\\\\system32\\\\WindowsPowerShell\\\\v1.0\\\\Modules\\\\;c:\\\\Program Files (x86)\\\\Microsoft SQL Server\\\\110\\\\Tools\\\\PowerShell\\\\Modules\\\\', 'COMMONPROGRAMFILES': 'C:\\\\Program Files\\\\Common Files', 'PROCESSOR_IDENTIFIER': 'Intel64 Family 6 Model 60 Stepping 3, GenuineIntel', 'LOGONSERVER': '\\\\\\\\RCHATEAU-HP', 'VBOX_MSI_INSTALL_PATH': 'C:\\\\Program Files\\\\Oracle\\\\VirtualBox\\\\', 'PROGRAMFILES': 'C:\\\\Program Files', 'PROCESSOR_REVISION': '3c03', 'PATH': 'C:\\\\ProgramData\\\\Oracle\\\\Java\\\\javapath;C:\\\\oraclexe\\\\app\\\\oracle\\\\product\\\\11.2.0\\\\server\\\\bin;C:\\\\Perl64\\\\site\\\\bin;C:\\\\Perl64\\\\bin;C:\\\\Program Files (x86)\\\\OpenSSH\\\\bin;C:\\\\Program Files (x86)\\\\Intel\\\\iCLS Client\\\\;C:\\\\Program Files\\\\Intel\\\\iCLS Client\\\\;C:\\\\windows\\\\system32;C:\\\\windows;C:\\\\windows\\\\System32\\\\Wbem;C:\\\\windows\\\\System32\\\\WindowsPowerShell\\\\v1.0\\\\;C:\\\\Program Files\\\\Intel\\\\Intel(R) Management Engine Components\\\\DAL;C:\\\\Program Files (x86)\\\\Intel\\\\Intel(R) Management Engine Components\\\\DAL;C:\\\\Program Files\\\\Intel\\\\Intel(R) Management Engine Components\\\\IPT;C:\\\\Program Files (x86)\\\\Intel\\\\Intel(R) Management Engine Components\\\\IPT;C:\\\\Program Files\\\\TortoiseSVN\\\\bin;C:\\\\Program Files (x86)\\\\Windows Kits\\\\8.1\\\\Windows Performance Toolkit\\\\;C:\\\\Program Files\\\\Microsoft SQL Server\\\\110\\\\Tools\\\\Binn\\\\;C:\\\\Program Files (x86)\\\\Microsoft SDKs\\\\TypeScript\\\\1.0\\\\;C:\\\\Program Files\\\\Microsoft SQL Server\\\\120\\\\Tools\\\\Binn\\\\;c:\\\\Program Files (x86)\\\\Microsoft SQL Server\\\\110\\\\Tools\\\\Binn\\\\;c:\\\\Program Files (x86)\\\\Microsoft SQL Server\\\\110\\\\DTS\\\\Binn\\\\;C:\\\\Program Extra\\\\SysinternalsSuite;C:\\\\Program Files (x86)\\\\Microsoft SQL Server\\\\110\\\\Tools\\\\Binn\\\\ManagementStudio\\\\;C:\\\\Program Files\\\\Microsoft SQL Server\\\\110\\\\DTS\\\\Binn\\\\;C:\\\\Program Files (x86)\\\\The Open Group\\\\WMI Mapper\\\\bin;C:\\\\Python27;C:\\\\Program_Extra\\\\swigwin-3.0.4;C:\\\\Program_Extra\\\\SysinternalsSuite;C:\\\\Program_Extra;C:/Program Files (x86)/OpenSLP;c:\\\\Apache24\\\\bin;C:\\\\Program Files (x86)\\\\Graphviz2.38\\\\bin;C:\\\\OpenSSL-Win64\\\\bin;C:\\\\Program Files (x86)\\\\Skype\\\\Phone\\\\;C:\\\\Program Files (x86)\\\\Nmap;C:\\\\Program Files (x86)\\\\Windows Kits\\\\10\\\\Windows Performance Toolkit\\\\;C:\\\\Program Files (x86)\\\\Windows Kits\\\\10\\\\Debuggers\\\\x64;C:\\\\Python27\\\\Scripts;C:\\\\Program_Extra\\\\Depends64;C:\\\\Program Files\\\\doxygen\\\\bin;C:\\\\MinGW\\\\bin;C:\\\\Program Files\\\\Java\\\\jdk1.8.0_121\\\\bin;C:\\\\Program Files\\\\nodejs\\\\;C:\\\\Program Files\\\\MySQL\\\\MySQL Utilities 1.6\\\\;C:\\\\Program Files\\\\CMake\\\\bin;C:\\\\Program Files (x86)\\\\Microsoft Visual Studio 12.0\\\\VC\\\\bin;C:\\\\Program_Extra\\\\z3\\\\bin;C:\\\\Program Files\\\\Git\\\\cmd;C:\\\\Program Files\\\\dotnet\\\\;C:\\\\Program Files\\\\Microsoft SQL Server\\\\130\\\\Tools\\\\Binn\\\\;C:\\\\Program Files\\\\TortoiseGit\\\\bin;C:\\\\Program Files (x86)\\\\CVSNT\\\\;C:\\\\Users\\\\rchateau\\\\AppData\\\\Roaming\\\\npm;C:\\\\Program Files\\\\MySQL\\\\MySQL Server 5.7\\\\bin;c:\\\\python27\\\\lib\\\\site-packages\\\\pywin32_system32;c:\\\\python27\\\\lib\\\\site-packages\\\\pywin32_system32', 'SYSTEMROOT': 'C:\\\\windows', 'OOBEUILANG': 'en-US', 'CLICOLOR': '1', 'XCOMP_AC2_BASE': 'C:\\\\AC2', 'PROGRAMFILES(X86)': 'C:\\\\Program Files (x86)', 'WINDOWS_TRACING_FLAGS': '3', 'FPPUILANG': 'en-US', 'TERM': 'xterm-color', 'TEMP': 'C:\\\\Users\\\\rchateau\\\\AppData\\\\Local\\\\Temp', 'PLATFORM': 'BPC', 'COMMONPROGRAMFILES(X86)': 'C:\\\\Program Files (x86)\\\\Common Files', 'PROCESSOR_ARCHITECTURE': 'AMD64', 'TMP': 'C:\\\\Users\\\\rchateau\\\\AppData\\\\Local\\\\Temp', 'ALLUSERSPROFILE': 'C:\\\\ProgramData', 'PEGASUS_HOME': 'C:\\\\Program Files (x86)\\\\The Open Group\\\\WMI Mapper\\\\', 'LOCALAPPDATA': 'C:\\\\Users\\\\rchateau\\\\AppData\\\\Local', 'HOMEPATH': '\\\\Users\\\\rchateau', 'VS120COMNTOOLS': 'C:\\\\Program Files (x86)\\\\Microsoft Visual Studio 12.0\\\\Common7\\\\Tools\\\\', 'JPY_INTERRUPT_EVENT': '672', 'ERLANG_HOME': 'C:\\\\Program Files\\\\erl7.3', 'USERNAME': 'rchateau', 'HP_SSL_SHARE': 'C:\\\\hp\\\\sslshare\\\\', 'PROMPT': '$P$G', 'COMSPEC': 'C:\\\\windows\\\\system32\\\\cmd.exe', 'JPY_PARENT_PID': '744', 'PROGRAMDATA': 'C:\\\\ProgramData', 'ONEDRIVE': 'C:\\\\Users\\\\rchateau\\\\OneDrive', 'GIT_PAGER': 'cat', 'PATHEXT': '.COM;.EXE;.BAT;.CMD;.VBS;.VBE;.JS;.JSE;.WSF;.WSH;.MSC', 'FP_NO_HOST_CHECK': 'NO', 'WINDIR': 'C:\\\\windows', 'OPENSSL_CONF': 'C:\\\\OpenSSL-Win64\\\\bin\\\\openssl.cfg', 'WINDOWS_TRACING_LOGFILE': 'C:\\\\BVTBin\\\\Tests\\\\installpackage\\\\csilogfile.log', 'HOMEDRIVE': 'C:', 'SERVER_NAME': 'LOCAL_MODE', 'PAGER': 'cat', 'SYSTEMDRIVE': 'C:', 'ONLINESERVICES': 'Online Services', 'NUMBER_OF_PROCESSORS': '2', 'APPDATA': 'C:\\\\Users\\\\rchateau\\\\AppData\\\\Roaming', 'PROCESSOR_LEVEL': '6', 'PROGRAMW6432': 'C:\\\\Program Files', 'PEGASUS_PLATFORM': 'WIN32_IX86_MSVC', 'COMMONPROGRAMW6432': 'C:\\\\Program Files\\\\Common Files', 'OS': 'Windows_NT', 'PUBLIC': 'C:\\\\Users\\\\Public', 'IPY_INTERRUPT_EVENT': '672', 'USERPROFILE': 'C:\\\\Users\\\\rchateau'}\n"
     ]
    },
    {
     "ename": "SystemExit",
     "evalue": "1",
     "output_type": "error",
     "traceback": [
      "An exception has occurred, use %tb to see the full traceback.\n",
      "\u001b[1;31mSystemExit\u001b[0m\u001b[1;31m:\u001b[0m 1\n"
     ]
    },
    {
     "name": "stderr",
     "output_type": "stream",
     "text": [
      "To exit: use 'exit', 'quit', or Ctrl-D.\n"
     ]
    }
   ],
   "source": [
    "# This loads the module from the source, so no need to install it,\n",
    "# and no need of virtualenv.\n",
    "import sys\n",
    "filRoot = \"C:\\\\Users\\\\rchateau\\\\Developpement\\\\ReverseEngineeringApps\\\\PythonStyle\"\n",
    "if sys.path[0] != filRoot:\n",
    "    sys.path.insert(0,filRoot)\n",
    "    print(sys.path)\n",
    "\n",
    "    \n",
    "def DelModu(modu):\n",
    "    if modu in sys.modules:\n",
    "        del sys.modules[modu]\n",
    "        \n",
    "# This deletes the module so we can reload them each time.\n",
    "# Not very reliable but OK for testing.\n",
    "for modu in ['survol','survol.lib_common','survol.lib_util','survol.lib_client']:\n",
    "    DelModu(modu)\n",
    "\n",
    "import survol\n",
    "print(survol.__file__)\n",
    "from survol import lib_common\n",
    "from survol import lib_util\n",
    "from survol import lib_client\n"
   ]
  },
  {
   "cell_type": "code",
   "execution_count": 1,
   "metadata": {
    "collapsed": false
   },
   "outputs": [
    {
     "ename": "NameError",
     "evalue": "name 'survol' is not defined",
     "output_type": "error",
     "traceback": [
      "\u001b[1;31m---------------------------------------------------------------------------\u001b[0m",
      "\u001b[1;31mNameError\u001b[0m                                 Traceback (most recent call last)",
      "\u001b[1;32m<ipython-input-1-311d296e5e65>\u001b[0m in \u001b[0;36m<module>\u001b[1;34m()\u001b[0m\n\u001b[1;32m----> 1\u001b[1;33m \u001b[0mmySource\u001b[0m \u001b[1;33m=\u001b[0m \u001b[0msurvol\u001b[0m\u001b[1;33m.\u001b[0m\u001b[0mlib_client\u001b[0m\u001b[1;33m.\u001b[0m\u001b[0mSourceScript\u001b[0m\u001b[1;33m(\u001b[0m\u001b[1;34m\"toto.py\"\u001b[0m\u001b[1;33m)\u001b[0m\u001b[1;33m\u001b[0m\u001b[0m\n\u001b[0m\u001b[0;32m      2\u001b[0m \u001b[1;32mprint\u001b[0m\u001b[1;33m(\u001b[0m\u001b[0mmySource\u001b[0m\u001b[1;33m.\u001b[0m\u001b[0mQuery\u001b[0m\u001b[1;33m(\u001b[0m\u001b[1;33m)\u001b[0m\u001b[1;33m)\u001b[0m\u001b[1;33m\u001b[0m\u001b[0m\n\u001b[0;32m      3\u001b[0m \u001b[0mmySource\u001b[0m \u001b[1;33m=\u001b[0m \u001b[0msurvol\u001b[0m\u001b[1;33m.\u001b[0m\u001b[0mlib_client\u001b[0m\u001b[1;33m.\u001b[0m\u001b[0mSourceScript\u001b[0m\u001b[1;33m(\u001b[0m\u001b[1;34m\"toto.py\"\u001b[0m\u001b[1;33m,\u001b[0m\u001b[1;34m\"CIM_Process\"\u001b[0m\u001b[1;33m,\u001b[0m\u001b[0mHandle\u001b[0m\u001b[1;33m=\u001b[0m\u001b[1;36m123\u001b[0m\u001b[1;33m)\u001b[0m\u001b[1;33m\u001b[0m\u001b[0m\n\u001b[0;32m      4\u001b[0m \u001b[1;32mprint\u001b[0m\u001b[1;33m(\u001b[0m\u001b[0mmySource\u001b[0m\u001b[1;33m.\u001b[0m\u001b[0mQuery\u001b[0m\u001b[1;33m(\u001b[0m\u001b[1;33m)\u001b[0m\u001b[1;33m)\u001b[0m\u001b[1;33m\u001b[0m\u001b[0m\n\u001b[0;32m      5\u001b[0m \u001b[1;33m\u001b[0m\u001b[0m\n",
      "\u001b[1;31mNameError\u001b[0m: name 'survol' is not defined"
     ]
    }
   ],
   "source": [
    "mySource = survol.lib_client.SourceScript(\"toto.py\")\n",
    "print(mySource.Query())\n",
    "mySource = survol.lib_client.SourceScript(\"toto.py\",\"CIM_Process\",Handle=123)\n",
    "print(mySource.Query())\n",
    "\n",
    "mySource1 = survol.lib_client.SourceUrl(\"http://vps516494.ovh.net/Survol/survol/sources_types/enumerate_CIM_Process.py\")\n",
    "print(mySource1.Query())\n",
    "print(mySource1.Url())\n",
    "\n",
    "mySource2 = survol.lib_client.SourceUrl(\"http://rchateau-hp:8000/survol/sources_types/java/java_processes.py\")\n",
    "print(mySource2.Url())\n",
    "\n",
    "# http://rchateau-hp:8000/survol/sources_types/CIM_DataFile/file_stat.py?xid=CIM_DataFile.Name%3DC%3A%2FWindows%2Fexplorer.exe\n",
    "mySource3 = survol.lib_client.SourceUrl(\n",
    "    \"http://rchateau-hp:8000/survol/sources_types/java/CIM_DataFile/file_stat.py\",\n",
    "    \"CIM_DataFile\",\n",
    "    Name=\"C:\\\\Windows\\\\explorer.exe\")\n",
    "print(mySource3.Url())\n",
    "\n",
    "mySrcMerge = mySource1 + mySource2\n",
    "print(mySrcMerge)\n"
   ]
  },
  {
   "cell_type": "code",
   "execution_count": null,
   "metadata": {
    "collapsed": true
   },
   "outputs": [],
   "source": []
  }
 ],
 "metadata": {
  "kernelspec": {
   "display_name": "Python 2",
   "language": "python",
   "name": "python2"
  },
  "language_info": {
   "codemirror_mode": {
    "name": "ipython",
    "version": 2
   },
   "file_extension": ".py",
   "mimetype": "text/x-python",
   "name": "python",
   "nbconvert_exporter": "python",
   "pygments_lexer": "ipython2",
   "version": "2.7.10"
  }
 },
 "nbformat": 4,
 "nbformat_minor": 0
}
